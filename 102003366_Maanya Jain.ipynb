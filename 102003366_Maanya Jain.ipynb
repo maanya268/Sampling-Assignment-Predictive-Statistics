{
  "nbformat": 4,
  "nbformat_minor": 0,
  "metadata": {
    "colab": {
      "provenance": []
    },
    "kernelspec": {
      "name": "python3",
      "display_name": "Python 3"
    },
    "language_info": {
      "name": "python"
    }
  },
  "cells": [
    {
      "cell_type": "markdown",
      "source": [
        "## Exploring the data"
      ],
      "metadata": {
        "id": "2j_R5x2onvzk"
      }
    },
    {
      "cell_type": "code",
      "source": [
        "import numpy as np\n",
        "import pandas as pd"
      ],
      "metadata": {
        "id": "PGet91NqbWyS"
      },
      "execution_count": 849,
      "outputs": []
    },
    {
      "cell_type": "code",
      "execution_count": 850,
      "metadata": {
        "id": "TVKbQpmua9F2"
      },
      "outputs": [],
      "source": [
        "df = pd.read_csv(\"/content/Creditcard_data.csv\")"
      ]
    },
    {
      "cell_type": "code",
      "source": [
        "df.head()"
      ],
      "metadata": {
        "colab": {
          "base_uri": "https://localhost:8080/",
          "height": 299
        },
        "id": "iz6e7CIRbrzm",
        "outputId": "59345234-05ce-4ad5-a8b9-2f30c3dff637"
      },
      "execution_count": 851,
      "outputs": [
        {
          "output_type": "execute_result",
          "data": {
            "text/plain": [
              "   Time        V1        V2        V3        V4        V5        V6        V7  \\\n",
              "0     0 -1.359807 -0.072781  2.536347  1.378155 -0.338321  0.462388  0.239599   \n",
              "1     0  1.191857  0.266151  0.166480  0.448154  0.060018 -0.082361 -0.078803   \n",
              "2     1 -1.358354 -1.340163  1.773209  0.379780 -0.503198  1.800499  0.791461   \n",
              "3     1 -0.966272 -0.185226  1.792993 -0.863291 -0.010309  1.247203  0.237609   \n",
              "4     2 -1.158233  0.877737  1.548718  0.403034 -0.407193  0.095921  0.592941   \n",
              "\n",
              "         V8        V9  ...       V21       V22       V23       V24       V25  \\\n",
              "0  0.098698  0.363787  ... -0.018307  0.277838 -0.110474  0.066928  0.128539   \n",
              "1  0.085102 -0.255425  ... -0.225775 -0.638672  0.101288 -0.339846  0.167170   \n",
              "2  0.247676 -1.514654  ...  0.247998  0.771679  0.909412 -0.689281 -0.327642   \n",
              "3  0.377436 -1.387024  ... -0.108300  0.005274 -0.190321 -1.175575  0.647376   \n",
              "4 -0.270533  0.817739  ... -0.009431  0.798278 -0.137458  0.141267 -0.206010   \n",
              "\n",
              "        V26       V27       V28  Amount  Class  \n",
              "0 -0.189115  0.133558 -0.021053  149.62      0  \n",
              "1  0.125895 -0.008983  0.014724    2.69      1  \n",
              "2 -0.139097 -0.055353 -0.059752  378.66      0  \n",
              "3 -0.221929  0.062723  0.061458  123.50      0  \n",
              "4  0.502292  0.219422  0.215153   69.99      0  \n",
              "\n",
              "[5 rows x 31 columns]"
            ],
            "text/html": [
              "\n",
              "  <div id=\"df-5bb544b3-1333-40a9-abab-04f2748dd484\">\n",
              "    <div class=\"colab-df-container\">\n",
              "      <div>\n",
              "<style scoped>\n",
              "    .dataframe tbody tr th:only-of-type {\n",
              "        vertical-align: middle;\n",
              "    }\n",
              "\n",
              "    .dataframe tbody tr th {\n",
              "        vertical-align: top;\n",
              "    }\n",
              "\n",
              "    .dataframe thead th {\n",
              "        text-align: right;\n",
              "    }\n",
              "</style>\n",
              "<table border=\"1\" class=\"dataframe\">\n",
              "  <thead>\n",
              "    <tr style=\"text-align: right;\">\n",
              "      <th></th>\n",
              "      <th>Time</th>\n",
              "      <th>V1</th>\n",
              "      <th>V2</th>\n",
              "      <th>V3</th>\n",
              "      <th>V4</th>\n",
              "      <th>V5</th>\n",
              "      <th>V6</th>\n",
              "      <th>V7</th>\n",
              "      <th>V8</th>\n",
              "      <th>V9</th>\n",
              "      <th>...</th>\n",
              "      <th>V21</th>\n",
              "      <th>V22</th>\n",
              "      <th>V23</th>\n",
              "      <th>V24</th>\n",
              "      <th>V25</th>\n",
              "      <th>V26</th>\n",
              "      <th>V27</th>\n",
              "      <th>V28</th>\n",
              "      <th>Amount</th>\n",
              "      <th>Class</th>\n",
              "    </tr>\n",
              "  </thead>\n",
              "  <tbody>\n",
              "    <tr>\n",
              "      <th>0</th>\n",
              "      <td>0</td>\n",
              "      <td>-1.359807</td>\n",
              "      <td>-0.072781</td>\n",
              "      <td>2.536347</td>\n",
              "      <td>1.378155</td>\n",
              "      <td>-0.338321</td>\n",
              "      <td>0.462388</td>\n",
              "      <td>0.239599</td>\n",
              "      <td>0.098698</td>\n",
              "      <td>0.363787</td>\n",
              "      <td>...</td>\n",
              "      <td>-0.018307</td>\n",
              "      <td>0.277838</td>\n",
              "      <td>-0.110474</td>\n",
              "      <td>0.066928</td>\n",
              "      <td>0.128539</td>\n",
              "      <td>-0.189115</td>\n",
              "      <td>0.133558</td>\n",
              "      <td>-0.021053</td>\n",
              "      <td>149.62</td>\n",
              "      <td>0</td>\n",
              "    </tr>\n",
              "    <tr>\n",
              "      <th>1</th>\n",
              "      <td>0</td>\n",
              "      <td>1.191857</td>\n",
              "      <td>0.266151</td>\n",
              "      <td>0.166480</td>\n",
              "      <td>0.448154</td>\n",
              "      <td>0.060018</td>\n",
              "      <td>-0.082361</td>\n",
              "      <td>-0.078803</td>\n",
              "      <td>0.085102</td>\n",
              "      <td>-0.255425</td>\n",
              "      <td>...</td>\n",
              "      <td>-0.225775</td>\n",
              "      <td>-0.638672</td>\n",
              "      <td>0.101288</td>\n",
              "      <td>-0.339846</td>\n",
              "      <td>0.167170</td>\n",
              "      <td>0.125895</td>\n",
              "      <td>-0.008983</td>\n",
              "      <td>0.014724</td>\n",
              "      <td>2.69</td>\n",
              "      <td>1</td>\n",
              "    </tr>\n",
              "    <tr>\n",
              "      <th>2</th>\n",
              "      <td>1</td>\n",
              "      <td>-1.358354</td>\n",
              "      <td>-1.340163</td>\n",
              "      <td>1.773209</td>\n",
              "      <td>0.379780</td>\n",
              "      <td>-0.503198</td>\n",
              "      <td>1.800499</td>\n",
              "      <td>0.791461</td>\n",
              "      <td>0.247676</td>\n",
              "      <td>-1.514654</td>\n",
              "      <td>...</td>\n",
              "      <td>0.247998</td>\n",
              "      <td>0.771679</td>\n",
              "      <td>0.909412</td>\n",
              "      <td>-0.689281</td>\n",
              "      <td>-0.327642</td>\n",
              "      <td>-0.139097</td>\n",
              "      <td>-0.055353</td>\n",
              "      <td>-0.059752</td>\n",
              "      <td>378.66</td>\n",
              "      <td>0</td>\n",
              "    </tr>\n",
              "    <tr>\n",
              "      <th>3</th>\n",
              "      <td>1</td>\n",
              "      <td>-0.966272</td>\n",
              "      <td>-0.185226</td>\n",
              "      <td>1.792993</td>\n",
              "      <td>-0.863291</td>\n",
              "      <td>-0.010309</td>\n",
              "      <td>1.247203</td>\n",
              "      <td>0.237609</td>\n",
              "      <td>0.377436</td>\n",
              "      <td>-1.387024</td>\n",
              "      <td>...</td>\n",
              "      <td>-0.108300</td>\n",
              "      <td>0.005274</td>\n",
              "      <td>-0.190321</td>\n",
              "      <td>-1.175575</td>\n",
              "      <td>0.647376</td>\n",
              "      <td>-0.221929</td>\n",
              "      <td>0.062723</td>\n",
              "      <td>0.061458</td>\n",
              "      <td>123.50</td>\n",
              "      <td>0</td>\n",
              "    </tr>\n",
              "    <tr>\n",
              "      <th>4</th>\n",
              "      <td>2</td>\n",
              "      <td>-1.158233</td>\n",
              "      <td>0.877737</td>\n",
              "      <td>1.548718</td>\n",
              "      <td>0.403034</td>\n",
              "      <td>-0.407193</td>\n",
              "      <td>0.095921</td>\n",
              "      <td>0.592941</td>\n",
              "      <td>-0.270533</td>\n",
              "      <td>0.817739</td>\n",
              "      <td>...</td>\n",
              "      <td>-0.009431</td>\n",
              "      <td>0.798278</td>\n",
              "      <td>-0.137458</td>\n",
              "      <td>0.141267</td>\n",
              "      <td>-0.206010</td>\n",
              "      <td>0.502292</td>\n",
              "      <td>0.219422</td>\n",
              "      <td>0.215153</td>\n",
              "      <td>69.99</td>\n",
              "      <td>0</td>\n",
              "    </tr>\n",
              "  </tbody>\n",
              "</table>\n",
              "<p>5 rows × 31 columns</p>\n",
              "</div>\n",
              "      <button class=\"colab-df-convert\" onclick=\"convertToInteractive('df-5bb544b3-1333-40a9-abab-04f2748dd484')\"\n",
              "              title=\"Convert this dataframe to an interactive table.\"\n",
              "              style=\"display:none;\">\n",
              "        \n",
              "  <svg xmlns=\"http://www.w3.org/2000/svg\" height=\"24px\"viewBox=\"0 0 24 24\"\n",
              "       width=\"24px\">\n",
              "    <path d=\"M0 0h24v24H0V0z\" fill=\"none\"/>\n",
              "    <path d=\"M18.56 5.44l.94 2.06.94-2.06 2.06-.94-2.06-.94-.94-2.06-.94 2.06-2.06.94zm-11 1L8.5 8.5l.94-2.06 2.06-.94-2.06-.94L8.5 2.5l-.94 2.06-2.06.94zm10 10l.94 2.06.94-2.06 2.06-.94-2.06-.94-.94-2.06-.94 2.06-2.06.94z\"/><path d=\"M17.41 7.96l-1.37-1.37c-.4-.4-.92-.59-1.43-.59-.52 0-1.04.2-1.43.59L10.3 9.45l-7.72 7.72c-.78.78-.78 2.05 0 2.83L4 21.41c.39.39.9.59 1.41.59.51 0 1.02-.2 1.41-.59l7.78-7.78 2.81-2.81c.8-.78.8-2.07 0-2.86zM5.41 20L4 18.59l7.72-7.72 1.47 1.35L5.41 20z\"/>\n",
              "  </svg>\n",
              "      </button>\n",
              "      \n",
              "  <style>\n",
              "    .colab-df-container {\n",
              "      display:flex;\n",
              "      flex-wrap:wrap;\n",
              "      gap: 12px;\n",
              "    }\n",
              "\n",
              "    .colab-df-convert {\n",
              "      background-color: #E8F0FE;\n",
              "      border: none;\n",
              "      border-radius: 50%;\n",
              "      cursor: pointer;\n",
              "      display: none;\n",
              "      fill: #1967D2;\n",
              "      height: 32px;\n",
              "      padding: 0 0 0 0;\n",
              "      width: 32px;\n",
              "    }\n",
              "\n",
              "    .colab-df-convert:hover {\n",
              "      background-color: #E2EBFA;\n",
              "      box-shadow: 0px 1px 2px rgba(60, 64, 67, 0.3), 0px 1px 3px 1px rgba(60, 64, 67, 0.15);\n",
              "      fill: #174EA6;\n",
              "    }\n",
              "\n",
              "    [theme=dark] .colab-df-convert {\n",
              "      background-color: #3B4455;\n",
              "      fill: #D2E3FC;\n",
              "    }\n",
              "\n",
              "    [theme=dark] .colab-df-convert:hover {\n",
              "      background-color: #434B5C;\n",
              "      box-shadow: 0px 1px 3px 1px rgba(0, 0, 0, 0.15);\n",
              "      filter: drop-shadow(0px 1px 2px rgba(0, 0, 0, 0.3));\n",
              "      fill: #FFFFFF;\n",
              "    }\n",
              "  </style>\n",
              "\n",
              "      <script>\n",
              "        const buttonEl =\n",
              "          document.querySelector('#df-5bb544b3-1333-40a9-abab-04f2748dd484 button.colab-df-convert');\n",
              "        buttonEl.style.display =\n",
              "          google.colab.kernel.accessAllowed ? 'block' : 'none';\n",
              "\n",
              "        async function convertToInteractive(key) {\n",
              "          const element = document.querySelector('#df-5bb544b3-1333-40a9-abab-04f2748dd484');\n",
              "          const dataTable =\n",
              "            await google.colab.kernel.invokeFunction('convertToInteractive',\n",
              "                                                     [key], {});\n",
              "          if (!dataTable) return;\n",
              "\n",
              "          const docLinkHtml = 'Like what you see? Visit the ' +\n",
              "            '<a target=\"_blank\" href=https://colab.research.google.com/notebooks/data_table.ipynb>data table notebook</a>'\n",
              "            + ' to learn more about interactive tables.';\n",
              "          element.innerHTML = '';\n",
              "          dataTable['output_type'] = 'display_data';\n",
              "          await google.colab.output.renderOutput(dataTable, element);\n",
              "          const docLink = document.createElement('div');\n",
              "          docLink.innerHTML = docLinkHtml;\n",
              "          element.appendChild(docLink);\n",
              "        }\n",
              "      </script>\n",
              "    </div>\n",
              "  </div>\n",
              "  "
            ]
          },
          "metadata": {},
          "execution_count": 851
        }
      ]
    },
    {
      "cell_type": "code",
      "source": [
        "df.shape"
      ],
      "metadata": {
        "colab": {
          "base_uri": "https://localhost:8080/"
        },
        "id": "IX6kOV58baed",
        "outputId": "09d2e5d7-d6b1-4bac-ff2a-b391740ae55d"
      },
      "execution_count": 852,
      "outputs": [
        {
          "output_type": "execute_result",
          "data": {
            "text/plain": [
              "(772, 31)"
            ]
          },
          "metadata": {},
          "execution_count": 852
        }
      ]
    },
    {
      "cell_type": "code",
      "source": [
        "df.Time.value_counts()"
      ],
      "metadata": {
        "colab": {
          "base_uri": "https://localhost:8080/"
        },
        "id": "G9FPzbHmbyp8",
        "outputId": "6532708f-4e15-48a8-fdac-7c09066af041"
      },
      "execution_count": 853,
      "outputs": [
        {
          "output_type": "execute_result",
          "data": {
            "text/plain": [
              "145    5\n",
              "427    5\n",
              "284    5\n",
              "190    5\n",
              "140    5\n",
              "      ..\n",
              "304    1\n",
              "305    1\n",
              "308    1\n",
              "318    1\n",
              "581    1\n",
              "Name: Time, Length: 415, dtype: int64"
            ]
          },
          "metadata": {},
          "execution_count": 853
        }
      ]
    },
    {
      "cell_type": "code",
      "source": [
        "df.Class.value_counts(normalize=True)"
      ],
      "metadata": {
        "colab": {
          "base_uri": "https://localhost:8080/"
        },
        "id": "qIWUCnulbcNk",
        "outputId": "ffad1a78-e619-40f0-b1eb-ec9b881b3049"
      },
      "execution_count": 854,
      "outputs": [
        {
          "output_type": "execute_result",
          "data": {
            "text/plain": [
              "0    0.988342\n",
              "1    0.011658\n",
              "Name: Class, dtype: float64"
            ]
          },
          "metadata": {},
          "execution_count": 854
        }
      ]
    },
    {
      "cell_type": "code",
      "source": [
        "from sklearn.model_selection import train_test_split"
      ],
      "metadata": {
        "id": "LIlZepPUeBDN"
      },
      "execution_count": 855,
      "outputs": []
    },
    {
      "cell_type": "code",
      "source": [
        "inputs = df.drop('Class',axis=1)\n",
        "targets = df['Class']"
      ],
      "metadata": {
        "id": "uopVu9gemOjy"
      },
      "execution_count": 856,
      "outputs": []
    },
    {
      "cell_type": "code",
      "source": [
        "inputs.shape"
      ],
      "metadata": {
        "colab": {
          "base_uri": "https://localhost:8080/"
        },
        "id": "M7dpgKxHmtI5",
        "outputId": "db7d4dbb-f004-467a-81eb-db9c57ad9ec7"
      },
      "execution_count": 857,
      "outputs": [
        {
          "output_type": "execute_result",
          "data": {
            "text/plain": [
              "(772, 30)"
            ]
          },
          "metadata": {},
          "execution_count": 857
        }
      ]
    },
    {
      "cell_type": "code",
      "source": [
        "targets.shape"
      ],
      "metadata": {
        "colab": {
          "base_uri": "https://localhost:8080/"
        },
        "id": "WUw3Lf6gmuVH",
        "outputId": "64036f03-93f1-4888-bd39-1ca25c69af71"
      },
      "execution_count": 858,
      "outputs": [
        {
          "output_type": "execute_result",
          "data": {
            "text/plain": [
              "(772,)"
            ]
          },
          "metadata": {},
          "execution_count": 858
        }
      ]
    },
    {
      "cell_type": "code",
      "source": [
        "train_inputs, val_inputs, train_targets, val_targets = train_test_split(inputs,targets, test_size=0.3,random_state=42)"
      ],
      "metadata": {
        "id": "_T_Ai18yeA_5"
      },
      "execution_count": 859,
      "outputs": []
    },
    {
      "cell_type": "code",
      "source": [
        "train_inputs.shape"
      ],
      "metadata": {
        "colab": {
          "base_uri": "https://localhost:8080/"
        },
        "id": "8lbEjiGAbhxx",
        "outputId": "7a1b9534-5086-47e7-90b7-f5c261b17651"
      },
      "execution_count": 860,
      "outputs": [
        {
          "output_type": "execute_result",
          "data": {
            "text/plain": [
              "(540, 30)"
            ]
          },
          "metadata": {},
          "execution_count": 860
        }
      ]
    },
    {
      "cell_type": "code",
      "source": [
        "val_inputs.shape"
      ],
      "metadata": {
        "colab": {
          "base_uri": "https://localhost:8080/"
        },
        "id": "bA0_FHjfnC8b",
        "outputId": "c41727cc-efc4-4008-b176-4728dfd352bd"
      },
      "execution_count": 861,
      "outputs": [
        {
          "output_type": "execute_result",
          "data": {
            "text/plain": [
              "(232, 30)"
            ]
          },
          "metadata": {},
          "execution_count": 861
        }
      ]
    },
    {
      "cell_type": "code",
      "source": [
        "train_targets.shape"
      ],
      "metadata": {
        "colab": {
          "base_uri": "https://localhost:8080/"
        },
        "id": "dMON5cymnW64",
        "outputId": "fa41e200-6bc1-41f2-e36b-db4b9b8e7562"
      },
      "execution_count": 862,
      "outputs": [
        {
          "output_type": "execute_result",
          "data": {
            "text/plain": [
              "(540,)"
            ]
          },
          "metadata": {},
          "execution_count": 862
        }
      ]
    },
    {
      "cell_type": "code",
      "source": [
        "val_targets.shape"
      ],
      "metadata": {
        "colab": {
          "base_uri": "https://localhost:8080/"
        },
        "id": "Kk2DFh2RnZGG",
        "outputId": "f2f299eb-8c82-4f6a-8e2b-93e8a2e2e288"
      },
      "execution_count": 863,
      "outputs": [
        {
          "output_type": "execute_result",
          "data": {
            "text/plain": [
              "(232,)"
            ]
          },
          "metadata": {},
          "execution_count": 863
        }
      ]
    },
    {
      "cell_type": "markdown",
      "source": [
        "# Checking with linear relationsip"
      ],
      "metadata": {
        "id": "FacCNX8CqnUX"
      }
    },
    {
      "cell_type": "markdown",
      "source": [
        "### Applying Logistic Regression without any sampling technique used\n"
      ],
      "metadata": {
        "id": "0KCo8K_snpCg"
      }
    },
    {
      "cell_type": "code",
      "source": [
        "from sklearn.linear_model import LogisticRegression\n",
        "from sklearn.metrics import accuracy_score"
      ],
      "metadata": {
        "id": "ArqdxQLInbEq"
      },
      "execution_count": 864,
      "outputs": []
    },
    {
      "cell_type": "code",
      "source": [
        "model1 = LogisticRegression(class_weight='balanced',random_state=11)"
      ],
      "metadata": {
        "id": "YEKQJcGqngkj"
      },
      "execution_count": 865,
      "outputs": []
    },
    {
      "cell_type": "code",
      "source": [
        "model1.fit(train_inputs,train_targets)"
      ],
      "metadata": {
        "id": "j19MTwvWnggV",
        "colab": {
          "base_uri": "https://localhost:8080/"
        },
        "outputId": "2b8e3de4-27eb-4d6b-952a-b0f83ed5ca39"
      },
      "execution_count": 866,
      "outputs": [
        {
          "output_type": "stream",
          "name": "stderr",
          "text": [
            "/usr/local/lib/python3.8/dist-packages/sklearn/linear_model/_logistic.py:814: ConvergenceWarning: lbfgs failed to converge (status=1):\n",
            "STOP: TOTAL NO. of ITERATIONS REACHED LIMIT.\n",
            "\n",
            "Increase the number of iterations (max_iter) or scale the data as shown in:\n",
            "    https://scikit-learn.org/stable/modules/preprocessing.html\n",
            "Please also refer to the documentation for alternative solver options:\n",
            "    https://scikit-learn.org/stable/modules/linear_model.html#logistic-regression\n",
            "  n_iter_i = _check_optimize_result(\n"
          ]
        },
        {
          "output_type": "execute_result",
          "data": {
            "text/plain": [
              "LogisticRegression(class_weight='balanced', random_state=11)"
            ]
          },
          "metadata": {},
          "execution_count": 866
        }
      ]
    },
    {
      "cell_type": "code",
      "source": [
        "val_preds = model1.predict(val_inputs)"
      ],
      "metadata": {
        "id": "Syjpp0hVngcn"
      },
      "execution_count": 867,
      "outputs": []
    },
    {
      "cell_type": "code",
      "source": [
        "accuracy_score(val_preds,val_targets)"
      ],
      "metadata": {
        "colab": {
          "base_uri": "https://localhost:8080/"
        },
        "id": "8oWxNDz_oItn",
        "outputId": "77e10ac6-b4a5-476a-d7bd-4d255d19e5c6"
      },
      "execution_count": 868,
      "outputs": [
        {
          "output_type": "execute_result",
          "data": {
            "text/plain": [
              "0.9094827586206896"
            ]
          },
          "metadata": {},
          "execution_count": 868
        }
      ]
    },
    {
      "cell_type": "markdown",
      "source": [
        "### Applying Logistic Regression Model with default parameters"
      ],
      "metadata": {
        "id": "wg4kI5b3pczM"
      }
    },
    {
      "cell_type": "code",
      "source": [
        "model2 = LogisticRegression(random_state=11)"
      ],
      "metadata": {
        "id": "0lNWKqrioIrS"
      },
      "execution_count": 869,
      "outputs": []
    },
    {
      "cell_type": "code",
      "source": [
        "model2.fit(train_inputs,train_targets)"
      ],
      "metadata": {
        "colab": {
          "base_uri": "https://localhost:8080/"
        },
        "id": "Ztq13FgZoIos",
        "outputId": "85f7b3af-bc74-4373-dacb-694efa5d76d1"
      },
      "execution_count": 870,
      "outputs": [
        {
          "output_type": "stream",
          "name": "stderr",
          "text": [
            "/usr/local/lib/python3.8/dist-packages/sklearn/linear_model/_logistic.py:814: ConvergenceWarning: lbfgs failed to converge (status=1):\n",
            "STOP: TOTAL NO. of ITERATIONS REACHED LIMIT.\n",
            "\n",
            "Increase the number of iterations (max_iter) or scale the data as shown in:\n",
            "    https://scikit-learn.org/stable/modules/preprocessing.html\n",
            "Please also refer to the documentation for alternative solver options:\n",
            "    https://scikit-learn.org/stable/modules/linear_model.html#logistic-regression\n",
            "  n_iter_i = _check_optimize_result(\n"
          ]
        },
        {
          "output_type": "execute_result",
          "data": {
            "text/plain": [
              "LogisticRegression(random_state=11)"
            ]
          },
          "metadata": {},
          "execution_count": 870
        }
      ]
    },
    {
      "cell_type": "code",
      "source": [
        "val_preds2 = model2.predict(val_inputs)"
      ],
      "metadata": {
        "id": "_qZ1BYk9oIkk"
      },
      "execution_count": 871,
      "outputs": []
    },
    {
      "cell_type": "code",
      "source": [
        "accuracy_score(val_preds2,val_targets)"
      ],
      "metadata": {
        "colab": {
          "base_uri": "https://localhost:8080/"
        },
        "id": "phZWM2wOoIiI",
        "outputId": "a1cfbef8-bb9a-4e13-9834-0363647240b0"
      },
      "execution_count": 872,
      "outputs": [
        {
          "output_type": "execute_result",
          "data": {
            "text/plain": [
              "0.9827586206896551"
            ]
          },
          "metadata": {},
          "execution_count": 872
        }
      ]
    },
    {
      "cell_type": "markdown",
      "source": [
        "# Checking with non-linear relationship"
      ],
      "metadata": {
        "id": "5Qe05laFqENh"
      }
    },
    {
      "cell_type": "markdown",
      "source": [
        "## Tree based classifier"
      ],
      "metadata": {
        "id": "0U6qukuxrIlL"
      }
    },
    {
      "cell_type": "code",
      "source": [
        "from sklearn.ensemble import ExtraTreesClassifier"
      ],
      "metadata": {
        "id": "1ci1FIjbp9g0"
      },
      "execution_count": 873,
      "outputs": []
    },
    {
      "cell_type": "code",
      "source": [
        "model3 = ExtraTreesClassifier(random_state=11)"
      ],
      "metadata": {
        "id": "39iPs7uqp_kL"
      },
      "execution_count": 874,
      "outputs": []
    },
    {
      "cell_type": "code",
      "source": [
        "model3.fit(train_inputs,train_targets)"
      ],
      "metadata": {
        "colab": {
          "base_uri": "https://localhost:8080/"
        },
        "id": "edjuOKwtrkwG",
        "outputId": "fa8e17a8-a6a7-4c3b-d357-4cf5d8177c42"
      },
      "execution_count": 875,
      "outputs": [
        {
          "output_type": "execute_result",
          "data": {
            "text/plain": [
              "ExtraTreesClassifier(random_state=11)"
            ]
          },
          "metadata": {},
          "execution_count": 875
        }
      ]
    },
    {
      "cell_type": "code",
      "source": [
        "val_preds3 = model3.predict(val_inputs)"
      ],
      "metadata": {
        "id": "rjmGGTu1p_hp"
      },
      "execution_count": 876,
      "outputs": []
    },
    {
      "cell_type": "code",
      "source": [
        "accuracy_score(val_preds3,val_targets)"
      ],
      "metadata": {
        "colab": {
          "base_uri": "https://localhost:8080/"
        },
        "id": "D4ZCdf1ap_fZ",
        "outputId": "07379b2d-26f4-41f6-a17c-dafceea649bf"
      },
      "execution_count": 877,
      "outputs": [
        {
          "output_type": "execute_result",
          "data": {
            "text/plain": [
              "0.9870689655172413"
            ]
          },
          "metadata": {},
          "execution_count": 877
        }
      ]
    },
    {
      "cell_type": "markdown",
      "source": [
        "**Tree based model worked slightly better because it can classify non-linear relationship better**\n"
      ],
      "metadata": {
        "id": "iknMkghgr7kg"
      }
    },
    {
      "cell_type": "markdown",
      "source": [
        "# Now applying sampling techniques"
      ],
      "metadata": {
        "id": "vuBvSlx0tHI6"
      }
    },
    {
      "cell_type": "markdown",
      "source": [
        "## Random Under Sampling\n",
        "#### Removing data from the class with more value counts"
      ],
      "metadata": {
        "id": "0lu2PfQkBKhf"
      }
    },
    {
      "cell_type": "code",
      "source": [
        "train_targets.value_counts()"
      ],
      "metadata": {
        "colab": {
          "base_uri": "https://localhost:8080/"
        },
        "id": "RT7q5FFrrxbv",
        "outputId": "986aeb3c-3772-431d-827c-185ffc229ef7"
      },
      "execution_count": 878,
      "outputs": [
        {
          "output_type": "execute_result",
          "data": {
            "text/plain": [
              "0    534\n",
              "1      6\n",
              "Name: Class, dtype: int64"
            ]
          },
          "metadata": {},
          "execution_count": 878
        }
      ]
    },
    {
      "cell_type": "code",
      "source": [
        "val_targets.value_counts()"
      ],
      "metadata": {
        "colab": {
          "base_uri": "https://localhost:8080/"
        },
        "id": "8BS_ven5rxYH",
        "outputId": "7de316ec-775f-492a-b592-d358aa08ae4e"
      },
      "execution_count": 879,
      "outputs": [
        {
          "output_type": "execute_result",
          "data": {
            "text/plain": [
              "0    229\n",
              "1      3\n",
              "Name: Class, dtype: int64"
            ]
          },
          "metadata": {},
          "execution_count": 879
        }
      ]
    },
    {
      "cell_type": "code",
      "source": [
        "class_0_inputs = train_inputs[train_targets == 0]\n",
        "class_1_inputs = train_inputs[train_targets == 1]\n",
        "\n",
        "class_0_targets = train_targets[train_targets == 0]\n",
        "class_1_targets = train_targets[train_targets == 1]\n",
        "\n",
        "class_0 = pd.concat([class_0_inputs,class_0_targets],axis=1)\n",
        "class_1 = pd.concat([class_1_inputs,class_1_targets],axis=1)"
      ],
      "metadata": {
        "id": "_EJt6XI7Bxgv"
      },
      "execution_count": 880,
      "outputs": []
    },
    {
      "cell_type": "code",
      "source": [
        "class_0"
      ],
      "metadata": {
        "colab": {
          "base_uri": "https://localhost:8080/",
          "height": 488
        },
        "id": "W5PsYBh3FVOm",
        "outputId": "1bc2ceb4-07df-46af-9cb3-ef04b6767603"
      },
      "execution_count": 881,
      "outputs": [
        {
          "output_type": "execute_result",
          "data": {
            "text/plain": [
              "     Time        V1        V2        V3        V4        V5        V6  \\\n",
              "333   244 -1.118946 -0.071366  2.807769  1.025675 -0.100748  0.508680   \n",
              "306   221 -0.342871 -0.199546  1.976353 -0.003495 -1.170366  0.883501   \n",
              "507   375 -0.837689  0.777698  1.841252  3.056892  0.303627  0.615335   \n",
              "338   248 -0.216867  0.900896  1.502850  0.812492  0.193952 -0.031488   \n",
              "139    85 -4.257597  1.649489 -1.591242 -1.374317 -1.180136 -0.331040   \n",
              "..    ...       ...       ...       ...       ...       ...       ...   \n",
              "71     46 -0.378245  0.732925 -0.120154  0.185755  2.594269  3.797183   \n",
              "106    70 -0.426072 -0.060304  2.220828  0.024742 -0.584964  0.460623   \n",
              "270   190 -0.549414  0.676861  2.151950  1.014523 -0.620012  0.076154   \n",
              "435   313 -0.907420  1.103912  1.288489  1.243612 -0.068032  0.214040   \n",
              "102    69  0.298503  2.142722 -1.542143  1.561332  0.938108 -2.145673   \n",
              "\n",
              "           V7        V8        V9  ...       V21       V22       V23  \\\n",
              "333  0.620313 -0.213137  0.333039  ... -0.045782  0.455553  0.170942   \n",
              "306 -0.151879  0.160106  0.137973  ... -0.313443  0.086207  0.109600   \n",
              "507  0.531504 -0.081955 -0.522527  ... -0.070069  0.556788  0.217681   \n",
              "338  0.490795  0.120991 -0.907336  ...  0.147497  0.463470 -0.045124   \n",
              "139 -0.117992  1.592032  0.415996  ... -0.452568 -0.671703  0.001422   \n",
              "..        ...       ...       ...  ...       ...       ...       ...   \n",
              "71   0.059088  0.976768 -0.412661  ... -0.107582 -0.157140 -0.194659   \n",
              "106 -0.322526  0.434776  1.252404  ...  0.149485  0.769878 -0.092634   \n",
              "270  0.041578  0.342672  0.124723  ...  0.212024  0.850203 -0.185597   \n",
              "435  0.324000  0.436037 -0.437409  ...  0.022520  0.399523 -0.049081   \n",
              "102  1.405569 -0.778459  0.328636  ... -0.290987 -0.000235  0.092174   \n",
              "\n",
              "          V24       V25       V26       V27       V28  Amount  Class  \n",
              "333  0.076211  0.197637 -0.286674 -0.230530 -0.405084  100.37      0  \n",
              "306 -0.098951 -0.943009 -0.618657  0.253306  0.240271   99.82      0  \n",
              "507  0.100721 -0.332479  0.252526  0.138865 -0.085152   29.18      0  \n",
              "338  0.224126 -0.275402 -0.415339  0.108635  0.052981   10.00      0  \n",
              "139 -0.876377  0.070098  0.729582 -0.002942 -0.481497  124.67      0  \n",
              "..        ...       ...       ...       ...       ...     ...    ...  \n",
              "71   1.013897  0.145503 -0.237620  0.411372  0.202788   11.45      0  \n",
              "106  0.150536 -0.234230  0.504710  0.069158  0.041024   21.80      0  \n",
              "270  0.544990 -0.130609 -0.196374  0.422119  0.203313   20.70      0  \n",
              "435  0.220258 -0.162924 -0.286994  0.015071 -0.104668   15.08      0  \n",
              "102  0.586205 -0.397314 -0.480949  0.251145 -0.242279    0.78      0  \n",
              "\n",
              "[534 rows x 31 columns]"
            ],
            "text/html": [
              "\n",
              "  <div id=\"df-718bba7d-88bb-4499-b92d-f2eb9e1b9930\">\n",
              "    <div class=\"colab-df-container\">\n",
              "      <div>\n",
              "<style scoped>\n",
              "    .dataframe tbody tr th:only-of-type {\n",
              "        vertical-align: middle;\n",
              "    }\n",
              "\n",
              "    .dataframe tbody tr th {\n",
              "        vertical-align: top;\n",
              "    }\n",
              "\n",
              "    .dataframe thead th {\n",
              "        text-align: right;\n",
              "    }\n",
              "</style>\n",
              "<table border=\"1\" class=\"dataframe\">\n",
              "  <thead>\n",
              "    <tr style=\"text-align: right;\">\n",
              "      <th></th>\n",
              "      <th>Time</th>\n",
              "      <th>V1</th>\n",
              "      <th>V2</th>\n",
              "      <th>V3</th>\n",
              "      <th>V4</th>\n",
              "      <th>V5</th>\n",
              "      <th>V6</th>\n",
              "      <th>V7</th>\n",
              "      <th>V8</th>\n",
              "      <th>V9</th>\n",
              "      <th>...</th>\n",
              "      <th>V21</th>\n",
              "      <th>V22</th>\n",
              "      <th>V23</th>\n",
              "      <th>V24</th>\n",
              "      <th>V25</th>\n",
              "      <th>V26</th>\n",
              "      <th>V27</th>\n",
              "      <th>V28</th>\n",
              "      <th>Amount</th>\n",
              "      <th>Class</th>\n",
              "    </tr>\n",
              "  </thead>\n",
              "  <tbody>\n",
              "    <tr>\n",
              "      <th>333</th>\n",
              "      <td>244</td>\n",
              "      <td>-1.118946</td>\n",
              "      <td>-0.071366</td>\n",
              "      <td>2.807769</td>\n",
              "      <td>1.025675</td>\n",
              "      <td>-0.100748</td>\n",
              "      <td>0.508680</td>\n",
              "      <td>0.620313</td>\n",
              "      <td>-0.213137</td>\n",
              "      <td>0.333039</td>\n",
              "      <td>...</td>\n",
              "      <td>-0.045782</td>\n",
              "      <td>0.455553</td>\n",
              "      <td>0.170942</td>\n",
              "      <td>0.076211</td>\n",
              "      <td>0.197637</td>\n",
              "      <td>-0.286674</td>\n",
              "      <td>-0.230530</td>\n",
              "      <td>-0.405084</td>\n",
              "      <td>100.37</td>\n",
              "      <td>0</td>\n",
              "    </tr>\n",
              "    <tr>\n",
              "      <th>306</th>\n",
              "      <td>221</td>\n",
              "      <td>-0.342871</td>\n",
              "      <td>-0.199546</td>\n",
              "      <td>1.976353</td>\n",
              "      <td>-0.003495</td>\n",
              "      <td>-1.170366</td>\n",
              "      <td>0.883501</td>\n",
              "      <td>-0.151879</td>\n",
              "      <td>0.160106</td>\n",
              "      <td>0.137973</td>\n",
              "      <td>...</td>\n",
              "      <td>-0.313443</td>\n",
              "      <td>0.086207</td>\n",
              "      <td>0.109600</td>\n",
              "      <td>-0.098951</td>\n",
              "      <td>-0.943009</td>\n",
              "      <td>-0.618657</td>\n",
              "      <td>0.253306</td>\n",
              "      <td>0.240271</td>\n",
              "      <td>99.82</td>\n",
              "      <td>0</td>\n",
              "    </tr>\n",
              "    <tr>\n",
              "      <th>507</th>\n",
              "      <td>375</td>\n",
              "      <td>-0.837689</td>\n",
              "      <td>0.777698</td>\n",
              "      <td>1.841252</td>\n",
              "      <td>3.056892</td>\n",
              "      <td>0.303627</td>\n",
              "      <td>0.615335</td>\n",
              "      <td>0.531504</td>\n",
              "      <td>-0.081955</td>\n",
              "      <td>-0.522527</td>\n",
              "      <td>...</td>\n",
              "      <td>-0.070069</td>\n",
              "      <td>0.556788</td>\n",
              "      <td>0.217681</td>\n",
              "      <td>0.100721</td>\n",
              "      <td>-0.332479</td>\n",
              "      <td>0.252526</td>\n",
              "      <td>0.138865</td>\n",
              "      <td>-0.085152</td>\n",
              "      <td>29.18</td>\n",
              "      <td>0</td>\n",
              "    </tr>\n",
              "    <tr>\n",
              "      <th>338</th>\n",
              "      <td>248</td>\n",
              "      <td>-0.216867</td>\n",
              "      <td>0.900896</td>\n",
              "      <td>1.502850</td>\n",
              "      <td>0.812492</td>\n",
              "      <td>0.193952</td>\n",
              "      <td>-0.031488</td>\n",
              "      <td>0.490795</td>\n",
              "      <td>0.120991</td>\n",
              "      <td>-0.907336</td>\n",
              "      <td>...</td>\n",
              "      <td>0.147497</td>\n",
              "      <td>0.463470</td>\n",
              "      <td>-0.045124</td>\n",
              "      <td>0.224126</td>\n",
              "      <td>-0.275402</td>\n",
              "      <td>-0.415339</td>\n",
              "      <td>0.108635</td>\n",
              "      <td>0.052981</td>\n",
              "      <td>10.00</td>\n",
              "      <td>0</td>\n",
              "    </tr>\n",
              "    <tr>\n",
              "      <th>139</th>\n",
              "      <td>85</td>\n",
              "      <td>-4.257597</td>\n",
              "      <td>1.649489</td>\n",
              "      <td>-1.591242</td>\n",
              "      <td>-1.374317</td>\n",
              "      <td>-1.180136</td>\n",
              "      <td>-0.331040</td>\n",
              "      <td>-0.117992</td>\n",
              "      <td>1.592032</td>\n",
              "      <td>0.415996</td>\n",
              "      <td>...</td>\n",
              "      <td>-0.452568</td>\n",
              "      <td>-0.671703</td>\n",
              "      <td>0.001422</td>\n",
              "      <td>-0.876377</td>\n",
              "      <td>0.070098</td>\n",
              "      <td>0.729582</td>\n",
              "      <td>-0.002942</td>\n",
              "      <td>-0.481497</td>\n",
              "      <td>124.67</td>\n",
              "      <td>0</td>\n",
              "    </tr>\n",
              "    <tr>\n",
              "      <th>...</th>\n",
              "      <td>...</td>\n",
              "      <td>...</td>\n",
              "      <td>...</td>\n",
              "      <td>...</td>\n",
              "      <td>...</td>\n",
              "      <td>...</td>\n",
              "      <td>...</td>\n",
              "      <td>...</td>\n",
              "      <td>...</td>\n",
              "      <td>...</td>\n",
              "      <td>...</td>\n",
              "      <td>...</td>\n",
              "      <td>...</td>\n",
              "      <td>...</td>\n",
              "      <td>...</td>\n",
              "      <td>...</td>\n",
              "      <td>...</td>\n",
              "      <td>...</td>\n",
              "      <td>...</td>\n",
              "      <td>...</td>\n",
              "      <td>...</td>\n",
              "    </tr>\n",
              "    <tr>\n",
              "      <th>71</th>\n",
              "      <td>46</td>\n",
              "      <td>-0.378245</td>\n",
              "      <td>0.732925</td>\n",
              "      <td>-0.120154</td>\n",
              "      <td>0.185755</td>\n",
              "      <td>2.594269</td>\n",
              "      <td>3.797183</td>\n",
              "      <td>0.059088</td>\n",
              "      <td>0.976768</td>\n",
              "      <td>-0.412661</td>\n",
              "      <td>...</td>\n",
              "      <td>-0.107582</td>\n",
              "      <td>-0.157140</td>\n",
              "      <td>-0.194659</td>\n",
              "      <td>1.013897</td>\n",
              "      <td>0.145503</td>\n",
              "      <td>-0.237620</td>\n",
              "      <td>0.411372</td>\n",
              "      <td>0.202788</td>\n",
              "      <td>11.45</td>\n",
              "      <td>0</td>\n",
              "    </tr>\n",
              "    <tr>\n",
              "      <th>106</th>\n",
              "      <td>70</td>\n",
              "      <td>-0.426072</td>\n",
              "      <td>-0.060304</td>\n",
              "      <td>2.220828</td>\n",
              "      <td>0.024742</td>\n",
              "      <td>-0.584964</td>\n",
              "      <td>0.460623</td>\n",
              "      <td>-0.322526</td>\n",
              "      <td>0.434776</td>\n",
              "      <td>1.252404</td>\n",
              "      <td>...</td>\n",
              "      <td>0.149485</td>\n",
              "      <td>0.769878</td>\n",
              "      <td>-0.092634</td>\n",
              "      <td>0.150536</td>\n",
              "      <td>-0.234230</td>\n",
              "      <td>0.504710</td>\n",
              "      <td>0.069158</td>\n",
              "      <td>0.041024</td>\n",
              "      <td>21.80</td>\n",
              "      <td>0</td>\n",
              "    </tr>\n",
              "    <tr>\n",
              "      <th>270</th>\n",
              "      <td>190</td>\n",
              "      <td>-0.549414</td>\n",
              "      <td>0.676861</td>\n",
              "      <td>2.151950</td>\n",
              "      <td>1.014523</td>\n",
              "      <td>-0.620012</td>\n",
              "      <td>0.076154</td>\n",
              "      <td>0.041578</td>\n",
              "      <td>0.342672</td>\n",
              "      <td>0.124723</td>\n",
              "      <td>...</td>\n",
              "      <td>0.212024</td>\n",
              "      <td>0.850203</td>\n",
              "      <td>-0.185597</td>\n",
              "      <td>0.544990</td>\n",
              "      <td>-0.130609</td>\n",
              "      <td>-0.196374</td>\n",
              "      <td>0.422119</td>\n",
              "      <td>0.203313</td>\n",
              "      <td>20.70</td>\n",
              "      <td>0</td>\n",
              "    </tr>\n",
              "    <tr>\n",
              "      <th>435</th>\n",
              "      <td>313</td>\n",
              "      <td>-0.907420</td>\n",
              "      <td>1.103912</td>\n",
              "      <td>1.288489</td>\n",
              "      <td>1.243612</td>\n",
              "      <td>-0.068032</td>\n",
              "      <td>0.214040</td>\n",
              "      <td>0.324000</td>\n",
              "      <td>0.436037</td>\n",
              "      <td>-0.437409</td>\n",
              "      <td>...</td>\n",
              "      <td>0.022520</td>\n",
              "      <td>0.399523</td>\n",
              "      <td>-0.049081</td>\n",
              "      <td>0.220258</td>\n",
              "      <td>-0.162924</td>\n",
              "      <td>-0.286994</td>\n",
              "      <td>0.015071</td>\n",
              "      <td>-0.104668</td>\n",
              "      <td>15.08</td>\n",
              "      <td>0</td>\n",
              "    </tr>\n",
              "    <tr>\n",
              "      <th>102</th>\n",
              "      <td>69</td>\n",
              "      <td>0.298503</td>\n",
              "      <td>2.142722</td>\n",
              "      <td>-1.542143</td>\n",
              "      <td>1.561332</td>\n",
              "      <td>0.938108</td>\n",
              "      <td>-2.145673</td>\n",
              "      <td>1.405569</td>\n",
              "      <td>-0.778459</td>\n",
              "      <td>0.328636</td>\n",
              "      <td>...</td>\n",
              "      <td>-0.290987</td>\n",
              "      <td>-0.000235</td>\n",
              "      <td>0.092174</td>\n",
              "      <td>0.586205</td>\n",
              "      <td>-0.397314</td>\n",
              "      <td>-0.480949</td>\n",
              "      <td>0.251145</td>\n",
              "      <td>-0.242279</td>\n",
              "      <td>0.78</td>\n",
              "      <td>0</td>\n",
              "    </tr>\n",
              "  </tbody>\n",
              "</table>\n",
              "<p>534 rows × 31 columns</p>\n",
              "</div>\n",
              "      <button class=\"colab-df-convert\" onclick=\"convertToInteractive('df-718bba7d-88bb-4499-b92d-f2eb9e1b9930')\"\n",
              "              title=\"Convert this dataframe to an interactive table.\"\n",
              "              style=\"display:none;\">\n",
              "        \n",
              "  <svg xmlns=\"http://www.w3.org/2000/svg\" height=\"24px\"viewBox=\"0 0 24 24\"\n",
              "       width=\"24px\">\n",
              "    <path d=\"M0 0h24v24H0V0z\" fill=\"none\"/>\n",
              "    <path d=\"M18.56 5.44l.94 2.06.94-2.06 2.06-.94-2.06-.94-.94-2.06-.94 2.06-2.06.94zm-11 1L8.5 8.5l.94-2.06 2.06-.94-2.06-.94L8.5 2.5l-.94 2.06-2.06.94zm10 10l.94 2.06.94-2.06 2.06-.94-2.06-.94-.94-2.06-.94 2.06-2.06.94z\"/><path d=\"M17.41 7.96l-1.37-1.37c-.4-.4-.92-.59-1.43-.59-.52 0-1.04.2-1.43.59L10.3 9.45l-7.72 7.72c-.78.78-.78 2.05 0 2.83L4 21.41c.39.39.9.59 1.41.59.51 0 1.02-.2 1.41-.59l7.78-7.78 2.81-2.81c.8-.78.8-2.07 0-2.86zM5.41 20L4 18.59l7.72-7.72 1.47 1.35L5.41 20z\"/>\n",
              "  </svg>\n",
              "      </button>\n",
              "      \n",
              "  <style>\n",
              "    .colab-df-container {\n",
              "      display:flex;\n",
              "      flex-wrap:wrap;\n",
              "      gap: 12px;\n",
              "    }\n",
              "\n",
              "    .colab-df-convert {\n",
              "      background-color: #E8F0FE;\n",
              "      border: none;\n",
              "      border-radius: 50%;\n",
              "      cursor: pointer;\n",
              "      display: none;\n",
              "      fill: #1967D2;\n",
              "      height: 32px;\n",
              "      padding: 0 0 0 0;\n",
              "      width: 32px;\n",
              "    }\n",
              "\n",
              "    .colab-df-convert:hover {\n",
              "      background-color: #E2EBFA;\n",
              "      box-shadow: 0px 1px 2px rgba(60, 64, 67, 0.3), 0px 1px 3px 1px rgba(60, 64, 67, 0.15);\n",
              "      fill: #174EA6;\n",
              "    }\n",
              "\n",
              "    [theme=dark] .colab-df-convert {\n",
              "      background-color: #3B4455;\n",
              "      fill: #D2E3FC;\n",
              "    }\n",
              "\n",
              "    [theme=dark] .colab-df-convert:hover {\n",
              "      background-color: #434B5C;\n",
              "      box-shadow: 0px 1px 3px 1px rgba(0, 0, 0, 0.15);\n",
              "      filter: drop-shadow(0px 1px 2px rgba(0, 0, 0, 0.3));\n",
              "      fill: #FFFFFF;\n",
              "    }\n",
              "  </style>\n",
              "\n",
              "      <script>\n",
              "        const buttonEl =\n",
              "          document.querySelector('#df-718bba7d-88bb-4499-b92d-f2eb9e1b9930 button.colab-df-convert');\n",
              "        buttonEl.style.display =\n",
              "          google.colab.kernel.accessAllowed ? 'block' : 'none';\n",
              "\n",
              "        async function convertToInteractive(key) {\n",
              "          const element = document.querySelector('#df-718bba7d-88bb-4499-b92d-f2eb9e1b9930');\n",
              "          const dataTable =\n",
              "            await google.colab.kernel.invokeFunction('convertToInteractive',\n",
              "                                                     [key], {});\n",
              "          if (!dataTable) return;\n",
              "\n",
              "          const docLinkHtml = 'Like what you see? Visit the ' +\n",
              "            '<a target=\"_blank\" href=https://colab.research.google.com/notebooks/data_table.ipynb>data table notebook</a>'\n",
              "            + ' to learn more about interactive tables.';\n",
              "          element.innerHTML = '';\n",
              "          dataTable['output_type'] = 'display_data';\n",
              "          await google.colab.output.renderOutput(dataTable, element);\n",
              "          const docLink = document.createElement('div');\n",
              "          docLink.innerHTML = docLinkHtml;\n",
              "          element.appendChild(docLink);\n",
              "        }\n",
              "      </script>\n",
              "    </div>\n",
              "  </div>\n",
              "  "
            ]
          },
          "metadata": {},
          "execution_count": 881
        }
      ]
    },
    {
      "cell_type": "code",
      "source": [
        "len(class_0_inputs)"
      ],
      "metadata": {
        "colab": {
          "base_uri": "https://localhost:8080/"
        },
        "id": "QBs2CdKTKcvf",
        "outputId": "a78bd56e-aa53-4033-fac1-53449edbf805"
      },
      "execution_count": 882,
      "outputs": [
        {
          "output_type": "execute_result",
          "data": {
            "text/plain": [
              "534"
            ]
          },
          "metadata": {},
          "execution_count": 882
        }
      ]
    },
    {
      "cell_type": "code",
      "source": [
        "len(class_1_inputs)"
      ],
      "metadata": {
        "colab": {
          "base_uri": "https://localhost:8080/"
        },
        "id": "Ge_WGWoxDqn9",
        "outputId": "a33c5518-dbe2-4c28-b9d9-74215116292e"
      },
      "execution_count": 883,
      "outputs": [
        {
          "output_type": "execute_result",
          "data": {
            "text/plain": [
              "6"
            ]
          },
          "metadata": {},
          "execution_count": 883
        }
      ]
    },
    {
      "cell_type": "code",
      "source": [
        "class_0_under = class_0.sample(len(class_1),random_state=11)\n",
        "len(class_0_under)"
      ],
      "metadata": {
        "colab": {
          "base_uri": "https://localhost:8080/"
        },
        "id": "fhAbfY6vB0KF",
        "outputId": "8c0d55fe-2c05-486a-835e-df5661f0c0ba"
      },
      "execution_count": 884,
      "outputs": [
        {
          "output_type": "execute_result",
          "data": {
            "text/plain": [
              "6"
            ]
          },
          "metadata": {},
          "execution_count": 884
        }
      ]
    },
    {
      "cell_type": "code",
      "source": [
        "class_0_under_inputs = class_0_under.drop('Class',axis=1)\n",
        "class_0_under_targets = class_0_under['Class']"
      ],
      "metadata": {
        "id": "qh1VpTuwB0H2"
      },
      "execution_count": 885,
      "outputs": []
    },
    {
      "cell_type": "code",
      "source": [
        "class_under_sampled_inputs = pd.concat([class_0_under_inputs,class_1_inputs],axis=0)\n",
        "class_under_sampled_targets = pd.concat([class_0_under_targets,class_1_targets],axis=0)"
      ],
      "metadata": {
        "id": "DdeqMUpWB0C3"
      },
      "execution_count": 886,
      "outputs": []
    },
    {
      "cell_type": "code",
      "source": [
        "len(class_under_sampled_inputs)\n",
        "len(class_under_sampled_targets)"
      ],
      "metadata": {
        "colab": {
          "base_uri": "https://localhost:8080/"
        },
        "id": "6okjONmxHdjG",
        "outputId": "9615429e-c343-4e97-8fb7-7c5b1f03b736"
      },
      "execution_count": 887,
      "outputs": [
        {
          "output_type": "execute_result",
          "data": {
            "text/plain": [
              "12"
            ]
          },
          "metadata": {},
          "execution_count": 887
        }
      ]
    },
    {
      "cell_type": "markdown",
      "source": [
        "#### Applying Tree Based Classifier"
      ],
      "metadata": {
        "id": "K516_pR-HUgx"
      }
    },
    {
      "cell_type": "code",
      "source": [
        "model = ExtraTreesClassifier(random_state=11)"
      ],
      "metadata": {
        "id": "LqwTxPwtB0AT"
      },
      "execution_count": 888,
      "outputs": []
    },
    {
      "cell_type": "code",
      "source": [
        "model.fit(class_under_sampled_inputs,class_under_sampled_targets)"
      ],
      "metadata": {
        "colab": {
          "base_uri": "https://localhost:8080/"
        },
        "id": "_6aJGp3_Hul2",
        "outputId": "4937a550-4a12-4a48-dad4-d690c7ab867a"
      },
      "execution_count": 889,
      "outputs": [
        {
          "output_type": "execute_result",
          "data": {
            "text/plain": [
              "ExtraTreesClassifier(random_state=11)"
            ]
          },
          "metadata": {},
          "execution_count": 889
        }
      ]
    },
    {
      "cell_type": "code",
      "source": [
        "val_preds = model.predict(val_inputs)"
      ],
      "metadata": {
        "id": "NlxxW0iYHzg5"
      },
      "execution_count": 890,
      "outputs": []
    },
    {
      "cell_type": "code",
      "source": [
        "accuracy_score(val_preds,val_targets)"
      ],
      "metadata": {
        "colab": {
          "base_uri": "https://localhost:8080/"
        },
        "id": "4Y-tTjH0Hzeh",
        "outputId": "c598e6c0-2135-4338-a12f-138772a8bad1"
      },
      "execution_count": 891,
      "outputs": [
        {
          "output_type": "execute_result",
          "data": {
            "text/plain": [
              "0.7155172413793104"
            ]
          },
          "metadata": {},
          "execution_count": 891
        }
      ]
    },
    {
      "cell_type": "markdown",
      "source": [
        "**Under Sampling have performed really bad. This happened because, when we are doing under sampling there is loss of valuable data from the majority class. Also, the data formed after performing Random Under Sampling is too small to make accurate predictions.**"
      ],
      "metadata": {
        "id": "PiQLrjjDIZuX"
      }
    },
    {
      "cell_type": "markdown",
      "source": [
        "## Random Over Sampling\n",
        "\n",
        "#### Adding data to the class with lower value counts"
      ],
      "metadata": {
        "id": "c3EgeaEtIOaK"
      }
    },
    {
      "cell_type": "code",
      "source": [
        "class_1.Class.value_counts()"
      ],
      "metadata": {
        "colab": {
          "base_uri": "https://localhost:8080/"
        },
        "id": "l_8pG85nMX5j",
        "outputId": "4e8ac764-9323-4763-b7b3-dc2dd2f26558"
      },
      "execution_count": 892,
      "outputs": [
        {
          "output_type": "execute_result",
          "data": {
            "text/plain": [
              "1    6\n",
              "Name: Class, dtype: int64"
            ]
          },
          "metadata": {},
          "execution_count": 892
        }
      ]
    },
    {
      "cell_type": "code",
      "source": [
        "class_1_over = class_1.sample(len(class_0),replace=True)\n",
        "len(class_1_over)"
      ],
      "metadata": {
        "colab": {
          "base_uri": "https://localhost:8080/"
        },
        "id": "6ZDs5AnYHzb3",
        "outputId": "b047d746-b24b-442f-a208-d9756469a02a"
      },
      "execution_count": 893,
      "outputs": [
        {
          "output_type": "execute_result",
          "data": {
            "text/plain": [
              "534"
            ]
          },
          "metadata": {},
          "execution_count": 893
        }
      ]
    },
    {
      "cell_type": "code",
      "source": [
        "class_1_over_inputs = class_1_over.drop(['Class'],axis=1)\n",
        "class_1_over_targets = class_1_over['Class']"
      ],
      "metadata": {
        "id": "7CbcUPCOHzZN"
      },
      "execution_count": 894,
      "outputs": []
    },
    {
      "cell_type": "code",
      "source": [
        "class_over_sampled_inputs = pd.concat([class_1_over_inputs,class_0_inputs],axis=0)\n",
        "class_over_sampled_targets = pd.concat([class_1_over_targets,class_0_targets],axis=0)"
      ],
      "metadata": {
        "id": "B9Rn0kXFKPe3"
      },
      "execution_count": 895,
      "outputs": []
    },
    {
      "cell_type": "code",
      "source": [
        "len(class_over_sampled_inputs)"
      ],
      "metadata": {
        "colab": {
          "base_uri": "https://localhost:8080/"
        },
        "id": "SqK0sBQdLmT8",
        "outputId": "72080b41-1008-46e6-fe48-0c94d7bf2050"
      },
      "execution_count": 896,
      "outputs": [
        {
          "output_type": "execute_result",
          "data": {
            "text/plain": [
              "1068"
            ]
          },
          "metadata": {},
          "execution_count": 896
        }
      ]
    },
    {
      "cell_type": "code",
      "source": [
        "len(class_over_sampled_targets)"
      ],
      "metadata": {
        "colab": {
          "base_uri": "https://localhost:8080/"
        },
        "id": "TcKcZjbtLjwh",
        "outputId": "ecd3d17a-b10c-4f24-fa1e-5f6b40cf8257"
      },
      "execution_count": 897,
      "outputs": [
        {
          "output_type": "execute_result",
          "data": {
            "text/plain": [
              "1068"
            ]
          },
          "metadata": {},
          "execution_count": 897
        }
      ]
    },
    {
      "cell_type": "code",
      "source": [
        "class_over_sampled_targets.value_counts()"
      ],
      "metadata": {
        "colab": {
          "base_uri": "https://localhost:8080/"
        },
        "id": "7YpGaxHfL-0_",
        "outputId": "368acbd4-8805-4514-a380-a44f9f38917f"
      },
      "execution_count": 898,
      "outputs": [
        {
          "output_type": "execute_result",
          "data": {
            "text/plain": [
              "1    534\n",
              "0    534\n",
              "Name: Class, dtype: int64"
            ]
          },
          "metadata": {},
          "execution_count": 898
        }
      ]
    },
    {
      "cell_type": "markdown",
      "source": [
        "#### Applying Tree Based Classifier"
      ],
      "metadata": {
        "id": "uEGR2FfzKzp7"
      }
    },
    {
      "cell_type": "code",
      "source": [
        "model.fit(class_over_sampled_inputs,class_over_sampled_targets)"
      ],
      "metadata": {
        "colab": {
          "base_uri": "https://localhost:8080/"
        },
        "id": "REfr-eEsKQFe",
        "outputId": "2c84ea1d-c8fd-43bc-a9ba-441ebdeb6c97"
      },
      "execution_count": 899,
      "outputs": [
        {
          "output_type": "execute_result",
          "data": {
            "text/plain": [
              "ExtraTreesClassifier(random_state=11)"
            ]
          },
          "metadata": {},
          "execution_count": 899
        }
      ]
    },
    {
      "cell_type": "code",
      "source": [
        "val_preds = model.predict(val_inputs)"
      ],
      "metadata": {
        "id": "Rh4-YC9yKP8C"
      },
      "execution_count": 900,
      "outputs": []
    },
    {
      "cell_type": "code",
      "source": [
        "accuracy_score(val_preds,val_targets)"
      ],
      "metadata": {
        "colab": {
          "base_uri": "https://localhost:8080/"
        },
        "id": "pAxGGTcFKP5g",
        "outputId": "40ce787f-075a-4dc8-85da-1f365ad4406a"
      },
      "execution_count": 901,
      "outputs": [
        {
          "output_type": "execute_result",
          "data": {
            "text/plain": [
              "0.9870689655172413"
            ]
          },
          "metadata": {},
          "execution_count": 901
        }
      ]
    },
    {
      "cell_type": "code",
      "source": [
        "import xgboost as xgb"
      ],
      "metadata": {
        "id": "RqIib0f9OK7O"
      },
      "execution_count": 902,
      "outputs": []
    },
    {
      "cell_type": "code",
      "source": [
        "modelXGB = xgb.XGBClassifier()"
      ],
      "metadata": {
        "id": "CjEXemD6LJ39"
      },
      "execution_count": 903,
      "outputs": []
    },
    {
      "cell_type": "code",
      "source": [
        "modelXGB.fit(class_over_sampled_inputs,class_over_sampled_targets)"
      ],
      "metadata": {
        "colab": {
          "base_uri": "https://localhost:8080/"
        },
        "id": "ml2doYzmO6Cc",
        "outputId": "9316c7c0-1963-4f04-a79b-36524696b1f1"
      },
      "execution_count": 904,
      "outputs": [
        {
          "output_type": "execute_result",
          "data": {
            "text/plain": [
              "XGBClassifier()"
            ]
          },
          "metadata": {},
          "execution_count": 904
        }
      ]
    },
    {
      "cell_type": "code",
      "source": [
        "val_preds = modelXGB.predict(val_inputs)"
      ],
      "metadata": {
        "id": "w9CWDFVhPXLu"
      },
      "execution_count": 905,
      "outputs": []
    },
    {
      "cell_type": "code",
      "source": [
        "accuracy_score(val_preds,val_targets)"
      ],
      "metadata": {
        "colab": {
          "base_uri": "https://localhost:8080/"
        },
        "id": "J0q30eVKRhpQ",
        "outputId": "7ea6da64-2387-4dd6-ae5b-5f74b48bb341"
      },
      "execution_count": 906,
      "outputs": [
        {
          "output_type": "execute_result",
          "data": {
            "text/plain": [
              "0.9655172413793104"
            ]
          },
          "metadata": {},
          "execution_count": 906
        }
      ]
    },
    {
      "cell_type": "markdown",
      "source": [
        "#### Above is the self built implementation of sampling\n",
        "\n",
        "#### Below lets use the inbuilt resampling"
      ],
      "metadata": {
        "id": "4iPhXZMBVrxJ"
      }
    },
    {
      "cell_type": "markdown",
      "source": [
        "#### Random Over Sampling using inbuilt class"
      ],
      "metadata": {
        "id": "LCaoEu0hSbm-"
      }
    },
    {
      "cell_type": "code",
      "source": [
        "from imblearn.over_sampling import RandomOverSampler"
      ],
      "metadata": {
        "id": "5qFxt668Rkns"
      },
      "execution_count": 907,
      "outputs": []
    },
    {
      "cell_type": "code",
      "source": [
        "ros = RandomOverSampler(random_state=42)"
      ],
      "metadata": {
        "id": "CAzD5c6ISwde"
      },
      "execution_count": 908,
      "outputs": []
    },
    {
      "cell_type": "code",
      "source": [
        "resampled_inputs, resampled_targets = ros.fit_resample(inputs,targets)"
      ],
      "metadata": {
        "id": "pT0tn6YnSwbC"
      },
      "execution_count": 909,
      "outputs": []
    },
    {
      "cell_type": "code",
      "source": [
        "resampled_targets.value_counts()"
      ],
      "metadata": {
        "colab": {
          "base_uri": "https://localhost:8080/"
        },
        "id": "l-5GxVvJSwYq",
        "outputId": "15c58a5e-5864-4927-fcbe-49cb219e18ba"
      },
      "execution_count": 910,
      "outputs": [
        {
          "output_type": "execute_result",
          "data": {
            "text/plain": [
              "0    763\n",
              "1    763\n",
              "Name: Class, dtype: int64"
            ]
          },
          "metadata": {},
          "execution_count": 910
        }
      ]
    },
    {
      "cell_type": "code",
      "source": [
        "modelXGB.fit(resampled_inputs,resampled_targets)"
      ],
      "metadata": {
        "colab": {
          "base_uri": "https://localhost:8080/"
        },
        "id": "kjj8vUeYSwWa",
        "outputId": "d5c3c8c1-b860-4bc1-c0b7-cb619808e39d"
      },
      "execution_count": 911,
      "outputs": [
        {
          "output_type": "execute_result",
          "data": {
            "text/plain": [
              "XGBClassifier()"
            ]
          },
          "metadata": {},
          "execution_count": 911
        }
      ]
    },
    {
      "cell_type": "code",
      "source": [
        "val_preds = modelXGB.predict(val_inputs)"
      ],
      "metadata": {
        "id": "n3VIGaGYTZ2J"
      },
      "execution_count": 912,
      "outputs": []
    },
    {
      "cell_type": "code",
      "source": [
        "accuracy_score(val_preds,val_targets)"
      ],
      "metadata": {
        "colab": {
          "base_uri": "https://localhost:8080/"
        },
        "id": "k2StH56KTZzo",
        "outputId": "0110403b-72fc-4334-ebaa-46f62bc7b82f"
      },
      "execution_count": 913,
      "outputs": [
        {
          "output_type": "execute_result",
          "data": {
            "text/plain": [
              "1.0"
            ]
          },
          "metadata": {},
          "execution_count": 913
        }
      ]
    },
    {
      "cell_type": "code",
      "source": [
        "modelETC = ExtraTreesClassifier()"
      ],
      "metadata": {
        "id": "bI9yOTDkUYtv"
      },
      "execution_count": 914,
      "outputs": []
    },
    {
      "cell_type": "code",
      "source": [
        "modelETC.fit(resampled_inputs,resampled_targets)"
      ],
      "metadata": {
        "colab": {
          "base_uri": "https://localhost:8080/"
        },
        "id": "VlcUeP_cUg7N",
        "outputId": "0f50416b-9c8f-4daf-a584-f3316ba410a8"
      },
      "execution_count": 915,
      "outputs": [
        {
          "output_type": "execute_result",
          "data": {
            "text/plain": [
              "ExtraTreesClassifier()"
            ]
          },
          "metadata": {},
          "execution_count": 915
        }
      ]
    },
    {
      "cell_type": "code",
      "source": [
        "val_preds = modelETC.predict(val_inputs)"
      ],
      "metadata": {
        "id": "HVBm_ONAUg40"
      },
      "execution_count": 916,
      "outputs": []
    },
    {
      "cell_type": "code",
      "source": [
        "accuracy_score(val_preds,val_targets)"
      ],
      "metadata": {
        "colab": {
          "base_uri": "https://localhost:8080/"
        },
        "id": "uNKMulYaUg05",
        "outputId": "37a10050-efb6-412e-8fde-096091aaf13d"
      },
      "execution_count": 917,
      "outputs": [
        {
          "output_type": "execute_result",
          "data": {
            "text/plain": [
              "1.0"
            ]
          },
          "metadata": {},
          "execution_count": 917
        }
      ]
    },
    {
      "cell_type": "code",
      "source": [
        "modelLR = LogisticRegression()"
      ],
      "metadata": {
        "id": "-24es7RKU0GV"
      },
      "execution_count": 918,
      "outputs": []
    },
    {
      "cell_type": "code",
      "source": [
        "modelLR.fit(resampled_inputs,resampled_targets)"
      ],
      "metadata": {
        "colab": {
          "base_uri": "https://localhost:8080/"
        },
        "id": "YFpCPTzBU2yy",
        "outputId": "83f8230e-9d93-4dd9-b0a2-05b6aabbb375"
      },
      "execution_count": 919,
      "outputs": [
        {
          "output_type": "stream",
          "name": "stderr",
          "text": [
            "/usr/local/lib/python3.8/dist-packages/sklearn/linear_model/_logistic.py:814: ConvergenceWarning: lbfgs failed to converge (status=1):\n",
            "STOP: TOTAL NO. of ITERATIONS REACHED LIMIT.\n",
            "\n",
            "Increase the number of iterations (max_iter) or scale the data as shown in:\n",
            "    https://scikit-learn.org/stable/modules/preprocessing.html\n",
            "Please also refer to the documentation for alternative solver options:\n",
            "    https://scikit-learn.org/stable/modules/linear_model.html#logistic-regression\n",
            "  n_iter_i = _check_optimize_result(\n"
          ]
        },
        {
          "output_type": "execute_result",
          "data": {
            "text/plain": [
              "LogisticRegression()"
            ]
          },
          "metadata": {},
          "execution_count": 919
        }
      ]
    },
    {
      "cell_type": "code",
      "source": [
        "val_preds = modelLR.predict(val_inputs)"
      ],
      "metadata": {
        "id": "boN5kuU_U2my"
      },
      "execution_count": 920,
      "outputs": []
    },
    {
      "cell_type": "code",
      "source": [
        "accuracy_score(val_preds,val_targets)"
      ],
      "metadata": {
        "colab": {
          "base_uri": "https://localhost:8080/"
        },
        "id": "V-aZu0COU2kM",
        "outputId": "d269da57-d081-4de8-98de-08a27fccefde"
      },
      "execution_count": 921,
      "outputs": [
        {
          "output_type": "execute_result",
          "data": {
            "text/plain": [
              "0.8362068965517241"
            ]
          },
          "metadata": {},
          "execution_count": 921
        }
      ]
    },
    {
      "cell_type": "markdown",
      "source": [
        "#### Here we can clearly see that after performing Random Over Sampling and then applying tree based classifier for classification. The accuracy score is coming to be exactly 1.\n",
        "#### After performing resampling also Tree Based Classifiers are performing better then the linear classifier logistic regression\n",
        "\n",
        "#### Now dataset is properly balanced as it gives good result with the classifier. Now, i will use resampled_inputs as my new input and resampled_targets as my new targets "
      ],
      "metadata": {
        "id": "axBYxQxhVGGf"
      }
    },
    {
      "cell_type": "markdown",
      "source": [
        "### **Till here i have properly balanced the data**\n",
        "##### **Total rows are 1526 after balancing having 763 rows for each class** "
      ],
      "metadata": {
        "id": "1GKgQhGDXpAQ"
      }
    },
    {
      "cell_type": "markdown",
      "source": [
        "# Creating Five Samples of my new input data using Sample Size Detection Formula for Simple Random Sampling"
      ],
      "metadata": {
        "id": "x4ZwFYh1XZIu"
      }
    },
    {
      "cell_type": "code",
      "source": [
        "resampled_inputs.shape"
      ],
      "metadata": {
        "colab": {
          "base_uri": "https://localhost:8080/"
        },
        "id": "DxICUqe5TZxA",
        "outputId": "33edb4e7-5f85-4407-f3aa-dca7c86dc4f4"
      },
      "execution_count": 922,
      "outputs": [
        {
          "output_type": "execute_result",
          "data": {
            "text/plain": [
              "(1526, 30)"
            ]
          },
          "metadata": {},
          "execution_count": 922
        }
      ]
    },
    {
      "cell_type": "code",
      "source": [
        "resampled_targets.shape"
      ],
      "metadata": {
        "colab": {
          "base_uri": "https://localhost:8080/"
        },
        "id": "IPjyKoT5TZuR",
        "outputId": "46aa4c79-1566-4187-cb2b-58f669723747"
      },
      "execution_count": 923,
      "outputs": [
        {
          "output_type": "execute_result",
          "data": {
            "text/plain": [
              "(1526,)"
            ]
          },
          "metadata": {},
          "execution_count": 923
        }
      ]
    },
    {
      "cell_type": "code",
      "source": [
        "resampled = pd.concat([resampled_inputs,resampled_targets],axis=1)"
      ],
      "metadata": {
        "id": "O21BMlXPb_SK"
      },
      "execution_count": 924,
      "outputs": []
    },
    {
      "cell_type": "code",
      "source": [
        "resampled.Class.value_counts()"
      ],
      "metadata": {
        "colab": {
          "base_uri": "https://localhost:8080/"
        },
        "id": "jjXw4SILcGuy",
        "outputId": "18801e8c-e04e-4195-c36f-1f09e12f3a14"
      },
      "execution_count": 925,
      "outputs": [
        {
          "output_type": "execute_result",
          "data": {
            "text/plain": [
              "0    763\n",
              "1    763\n",
              "Name: Class, dtype: int64"
            ]
          },
          "metadata": {},
          "execution_count": 925
        }
      ]
    },
    {
      "cell_type": "code",
      "source": [
        "\n",
        "## Assuming z-score = 1.96 (for 95% confidence)\n",
        "## Assuming p = 0.5\n",
        "## Taking margin of error = 5%\n",
        "## These are the default parameters and can be changed according to the input data\n",
        "\n",
        "#Size detection for Simple Random Sampling\n",
        "def sample_size_detect_simple(zs=1.96,p=0.5,e=0.05):\n",
        "  q = 1-p\n",
        "  return ((zs**2)*p*q)/(e**2)\n",
        "\n",
        "#Size Detection for Stratified Sampling\n",
        "def sample_size_detect_stratified(zs=1.96,p=0.5,e=0.05,no_class=2):\n",
        "  q = 1-p\n",
        "  return ((zs**2)*p*q)/((e/no_class)**2)\n",
        "\n",
        "#Size Detection for Cluster Sampling \n",
        "def sample_size_detect_cluster(c,zs=1.96,p=0.5,e=0.05):\n",
        "  q = 1-p\n",
        "  return ((zs**2)*p*q)/((e/c)**2)\n"
      ],
      "metadata": {
        "id": "hh2YcOtHZbWp"
      },
      "execution_count": 926,
      "outputs": []
    },
    {
      "cell_type": "code",
      "source": [
        "import math"
      ],
      "metadata": {
        "id": "eoL8FOhfbxhd"
      },
      "execution_count": 927,
      "outputs": []
    },
    {
      "cell_type": "code",
      "source": [
        "n1 = sample_size_detect_simple()\n",
        "n1 = math.ceil(n1)\n",
        "\n",
        "n2 = sample_size_detect_stratified()\n",
        "n2 = math.ceil(n2)"
      ],
      "metadata": {
        "id": "oMSPji28Zzy2"
      },
      "execution_count": 928,
      "outputs": []
    },
    {
      "cell_type": "code",
      "source": [
        "## Simple Random Sampling\n",
        "sample1 = resampled.sample(n=n1,replace=True,random_state=1)"
      ],
      "metadata": {
        "id": "VtzIJv-rZzwP"
      },
      "execution_count": 929,
      "outputs": []
    },
    {
      "cell_type": "code",
      "source": [
        "## Stratified Sampling\n",
        "resampled_0 = resampled[resampled.Class == 0]\n",
        "resampled_1 = resampled[resampled.Class == 1]\n",
        "\n",
        "##as both classes have same no. of elements the proportion for stratified sampling will be half \n",
        "resampled_0_stratified = resampled_0.sample(n=n2//2,replace=True,random_state=2)\n",
        "resampled_1_stratified = resampled_1.sample(n=n2//2,replace=True,random_state=3)\n",
        "\n",
        "sample2 = pd.concat([resampled_0_stratified,resampled_1_stratified],axis=0)\n"
      ],
      "metadata": {
        "id": "S_1E01tUs_AL"
      },
      "execution_count": 930,
      "outputs": []
    },
    {
      "cell_type": "code",
      "source": [
        "## Cluster Sampling\n",
        "\n",
        "from sklearn.cluster import KMeans\n",
        "k = 10\n",
        "kmeans = KMeans(n_clusters=15)\n",
        "kmeans.fit(resampled)\n",
        "\n",
        "print(kmeans.inertia_)\n",
        "resampled['labels'] = kmeans.labels_\n",
        "resampled"
      ],
      "metadata": {
        "colab": {
          "base_uri": "https://localhost:8080/",
          "height": 505
        },
        "id": "Vdp1qSk5vydw",
        "outputId": "e9f3c5bc-7761-4cd6-c3f4-ca97e8c7002e"
      },
      "execution_count": 931,
      "outputs": [
        {
          "output_type": "stream",
          "name": "stdout",
          "text": [
            "2175341.135630363\n"
          ]
        },
        {
          "output_type": "execute_result",
          "data": {
            "text/plain": [
              "      Time        V1        V2        V3        V4        V5        V6  \\\n",
              "0        0 -1.359807 -0.072781  2.536347  1.378155 -0.338321  0.462388   \n",
              "1        0  1.191857  0.266151  0.166480  0.448154  0.060018 -0.082361   \n",
              "2        1 -1.358354 -1.340163  1.773209  0.379780 -0.503198  1.800499   \n",
              "3        1 -0.966272 -0.185226  1.792993 -0.863291 -0.010309  1.247203   \n",
              "4        2 -1.158233  0.877737  1.548718  0.403034 -0.407193  0.095921   \n",
              "...    ...       ...       ...       ...       ...       ...       ...   \n",
              "1521   529 -2.000567 -2.495484  2.467149  1.140053  2.462010  0.594262   \n",
              "1522   164  0.073497  0.551033  0.451890  0.114964  0.822947  0.251480   \n",
              "1523   164  0.073497  0.551033  0.451890  0.114964  0.822947  0.251480   \n",
              "1524   539 -1.738582  0.052740  1.187057 -0.656652  0.920623 -0.291788   \n",
              "1525   472 -3.043541 -3.157307  1.088463  2.288644  1.359805 -1.064823   \n",
              "\n",
              "            V7        V8        V9  ...       V22       V23       V24  \\\n",
              "0     0.239599  0.098698  0.363787  ...  0.277838 -0.110474  0.066928   \n",
              "1    -0.078803  0.085102 -0.255425  ... -0.638672  0.101288 -0.339846   \n",
              "2     0.791461  0.247676 -1.514654  ...  0.771679  0.909412 -0.689281   \n",
              "3     0.237609  0.377436 -1.387024  ...  0.005274 -0.190321 -1.175575   \n",
              "4     0.592941 -0.270533  0.817739  ...  0.798278 -0.137458  0.141267   \n",
              "...        ...       ...       ...  ...       ...       ...       ...   \n",
              "1521 -2.110183  0.788347  0.958809  ...  1.195394  0.297836 -0.857105   \n",
              "1522  0.296319  0.139497 -0.123050  ... -0.381932  0.151012 -1.363967   \n",
              "1523  0.296319  0.139497 -0.123050  ... -0.381932  0.151012 -1.363967   \n",
              "1524  0.269083  0.140631  0.023464  ... -0.192036 -0.261879 -0.237477   \n",
              "1525  0.325574 -0.067794 -0.270953  ...  0.435477  1.375966 -0.293803   \n",
              "\n",
              "           V25       V26       V27       V28  Amount  Class  labels  \n",
              "0     0.128539 -0.189115  0.133558 -0.021053  149.62      0      12  \n",
              "1     0.167170  0.125895 -0.008983  0.014724    2.69      1       2  \n",
              "2    -0.327642 -0.139097 -0.055353 -0.059752  378.66      0       7  \n",
              "3     0.647376 -0.221929  0.062723  0.061458  123.50      0      12  \n",
              "4    -0.206010  0.502292  0.219422  0.215153   69.99      0       2  \n",
              "...        ...       ...       ...       ...     ...    ...     ...  \n",
              "1521 -0.219322  0.861019 -0.124622 -0.171060    1.50      1       3  \n",
              "1522 -1.389079  0.075412  0.231750  0.230171    0.99      1       5  \n",
              "1523 -1.389079  0.075412  0.231750  0.230171    0.99      1       5  \n",
              "1524 -0.335040  0.240323 -0.345129 -0.383563    1.00      1       3  \n",
              "1525  0.279798 -0.145362 -0.252773  0.035764  529.00      1       1  \n",
              "\n",
              "[1526 rows x 32 columns]"
            ],
            "text/html": [
              "\n",
              "  <div id=\"df-615b89dd-b934-459f-96a7-281a4b639cbb\">\n",
              "    <div class=\"colab-df-container\">\n",
              "      <div>\n",
              "<style scoped>\n",
              "    .dataframe tbody tr th:only-of-type {\n",
              "        vertical-align: middle;\n",
              "    }\n",
              "\n",
              "    .dataframe tbody tr th {\n",
              "        vertical-align: top;\n",
              "    }\n",
              "\n",
              "    .dataframe thead th {\n",
              "        text-align: right;\n",
              "    }\n",
              "</style>\n",
              "<table border=\"1\" class=\"dataframe\">\n",
              "  <thead>\n",
              "    <tr style=\"text-align: right;\">\n",
              "      <th></th>\n",
              "      <th>Time</th>\n",
              "      <th>V1</th>\n",
              "      <th>V2</th>\n",
              "      <th>V3</th>\n",
              "      <th>V4</th>\n",
              "      <th>V5</th>\n",
              "      <th>V6</th>\n",
              "      <th>V7</th>\n",
              "      <th>V8</th>\n",
              "      <th>V9</th>\n",
              "      <th>...</th>\n",
              "      <th>V22</th>\n",
              "      <th>V23</th>\n",
              "      <th>V24</th>\n",
              "      <th>V25</th>\n",
              "      <th>V26</th>\n",
              "      <th>V27</th>\n",
              "      <th>V28</th>\n",
              "      <th>Amount</th>\n",
              "      <th>Class</th>\n",
              "      <th>labels</th>\n",
              "    </tr>\n",
              "  </thead>\n",
              "  <tbody>\n",
              "    <tr>\n",
              "      <th>0</th>\n",
              "      <td>0</td>\n",
              "      <td>-1.359807</td>\n",
              "      <td>-0.072781</td>\n",
              "      <td>2.536347</td>\n",
              "      <td>1.378155</td>\n",
              "      <td>-0.338321</td>\n",
              "      <td>0.462388</td>\n",
              "      <td>0.239599</td>\n",
              "      <td>0.098698</td>\n",
              "      <td>0.363787</td>\n",
              "      <td>...</td>\n",
              "      <td>0.277838</td>\n",
              "      <td>-0.110474</td>\n",
              "      <td>0.066928</td>\n",
              "      <td>0.128539</td>\n",
              "      <td>-0.189115</td>\n",
              "      <td>0.133558</td>\n",
              "      <td>-0.021053</td>\n",
              "      <td>149.62</td>\n",
              "      <td>0</td>\n",
              "      <td>12</td>\n",
              "    </tr>\n",
              "    <tr>\n",
              "      <th>1</th>\n",
              "      <td>0</td>\n",
              "      <td>1.191857</td>\n",
              "      <td>0.266151</td>\n",
              "      <td>0.166480</td>\n",
              "      <td>0.448154</td>\n",
              "      <td>0.060018</td>\n",
              "      <td>-0.082361</td>\n",
              "      <td>-0.078803</td>\n",
              "      <td>0.085102</td>\n",
              "      <td>-0.255425</td>\n",
              "      <td>...</td>\n",
              "      <td>-0.638672</td>\n",
              "      <td>0.101288</td>\n",
              "      <td>-0.339846</td>\n",
              "      <td>0.167170</td>\n",
              "      <td>0.125895</td>\n",
              "      <td>-0.008983</td>\n",
              "      <td>0.014724</td>\n",
              "      <td>2.69</td>\n",
              "      <td>1</td>\n",
              "      <td>2</td>\n",
              "    </tr>\n",
              "    <tr>\n",
              "      <th>2</th>\n",
              "      <td>1</td>\n",
              "      <td>-1.358354</td>\n",
              "      <td>-1.340163</td>\n",
              "      <td>1.773209</td>\n",
              "      <td>0.379780</td>\n",
              "      <td>-0.503198</td>\n",
              "      <td>1.800499</td>\n",
              "      <td>0.791461</td>\n",
              "      <td>0.247676</td>\n",
              "      <td>-1.514654</td>\n",
              "      <td>...</td>\n",
              "      <td>0.771679</td>\n",
              "      <td>0.909412</td>\n",
              "      <td>-0.689281</td>\n",
              "      <td>-0.327642</td>\n",
              "      <td>-0.139097</td>\n",
              "      <td>-0.055353</td>\n",
              "      <td>-0.059752</td>\n",
              "      <td>378.66</td>\n",
              "      <td>0</td>\n",
              "      <td>7</td>\n",
              "    </tr>\n",
              "    <tr>\n",
              "      <th>3</th>\n",
              "      <td>1</td>\n",
              "      <td>-0.966272</td>\n",
              "      <td>-0.185226</td>\n",
              "      <td>1.792993</td>\n",
              "      <td>-0.863291</td>\n",
              "      <td>-0.010309</td>\n",
              "      <td>1.247203</td>\n",
              "      <td>0.237609</td>\n",
              "      <td>0.377436</td>\n",
              "      <td>-1.387024</td>\n",
              "      <td>...</td>\n",
              "      <td>0.005274</td>\n",
              "      <td>-0.190321</td>\n",
              "      <td>-1.175575</td>\n",
              "      <td>0.647376</td>\n",
              "      <td>-0.221929</td>\n",
              "      <td>0.062723</td>\n",
              "      <td>0.061458</td>\n",
              "      <td>123.50</td>\n",
              "      <td>0</td>\n",
              "      <td>12</td>\n",
              "    </tr>\n",
              "    <tr>\n",
              "      <th>4</th>\n",
              "      <td>2</td>\n",
              "      <td>-1.158233</td>\n",
              "      <td>0.877737</td>\n",
              "      <td>1.548718</td>\n",
              "      <td>0.403034</td>\n",
              "      <td>-0.407193</td>\n",
              "      <td>0.095921</td>\n",
              "      <td>0.592941</td>\n",
              "      <td>-0.270533</td>\n",
              "      <td>0.817739</td>\n",
              "      <td>...</td>\n",
              "      <td>0.798278</td>\n",
              "      <td>-0.137458</td>\n",
              "      <td>0.141267</td>\n",
              "      <td>-0.206010</td>\n",
              "      <td>0.502292</td>\n",
              "      <td>0.219422</td>\n",
              "      <td>0.215153</td>\n",
              "      <td>69.99</td>\n",
              "      <td>0</td>\n",
              "      <td>2</td>\n",
              "    </tr>\n",
              "    <tr>\n",
              "      <th>...</th>\n",
              "      <td>...</td>\n",
              "      <td>...</td>\n",
              "      <td>...</td>\n",
              "      <td>...</td>\n",
              "      <td>...</td>\n",
              "      <td>...</td>\n",
              "      <td>...</td>\n",
              "      <td>...</td>\n",
              "      <td>...</td>\n",
              "      <td>...</td>\n",
              "      <td>...</td>\n",
              "      <td>...</td>\n",
              "      <td>...</td>\n",
              "      <td>...</td>\n",
              "      <td>...</td>\n",
              "      <td>...</td>\n",
              "      <td>...</td>\n",
              "      <td>...</td>\n",
              "      <td>...</td>\n",
              "      <td>...</td>\n",
              "      <td>...</td>\n",
              "    </tr>\n",
              "    <tr>\n",
              "      <th>1521</th>\n",
              "      <td>529</td>\n",
              "      <td>-2.000567</td>\n",
              "      <td>-2.495484</td>\n",
              "      <td>2.467149</td>\n",
              "      <td>1.140053</td>\n",
              "      <td>2.462010</td>\n",
              "      <td>0.594262</td>\n",
              "      <td>-2.110183</td>\n",
              "      <td>0.788347</td>\n",
              "      <td>0.958809</td>\n",
              "      <td>...</td>\n",
              "      <td>1.195394</td>\n",
              "      <td>0.297836</td>\n",
              "      <td>-0.857105</td>\n",
              "      <td>-0.219322</td>\n",
              "      <td>0.861019</td>\n",
              "      <td>-0.124622</td>\n",
              "      <td>-0.171060</td>\n",
              "      <td>1.50</td>\n",
              "      <td>1</td>\n",
              "      <td>3</td>\n",
              "    </tr>\n",
              "    <tr>\n",
              "      <th>1522</th>\n",
              "      <td>164</td>\n",
              "      <td>0.073497</td>\n",
              "      <td>0.551033</td>\n",
              "      <td>0.451890</td>\n",
              "      <td>0.114964</td>\n",
              "      <td>0.822947</td>\n",
              "      <td>0.251480</td>\n",
              "      <td>0.296319</td>\n",
              "      <td>0.139497</td>\n",
              "      <td>-0.123050</td>\n",
              "      <td>...</td>\n",
              "      <td>-0.381932</td>\n",
              "      <td>0.151012</td>\n",
              "      <td>-1.363967</td>\n",
              "      <td>-1.389079</td>\n",
              "      <td>0.075412</td>\n",
              "      <td>0.231750</td>\n",
              "      <td>0.230171</td>\n",
              "      <td>0.99</td>\n",
              "      <td>1</td>\n",
              "      <td>5</td>\n",
              "    </tr>\n",
              "    <tr>\n",
              "      <th>1523</th>\n",
              "      <td>164</td>\n",
              "      <td>0.073497</td>\n",
              "      <td>0.551033</td>\n",
              "      <td>0.451890</td>\n",
              "      <td>0.114964</td>\n",
              "      <td>0.822947</td>\n",
              "      <td>0.251480</td>\n",
              "      <td>0.296319</td>\n",
              "      <td>0.139497</td>\n",
              "      <td>-0.123050</td>\n",
              "      <td>...</td>\n",
              "      <td>-0.381932</td>\n",
              "      <td>0.151012</td>\n",
              "      <td>-1.363967</td>\n",
              "      <td>-1.389079</td>\n",
              "      <td>0.075412</td>\n",
              "      <td>0.231750</td>\n",
              "      <td>0.230171</td>\n",
              "      <td>0.99</td>\n",
              "      <td>1</td>\n",
              "      <td>5</td>\n",
              "    </tr>\n",
              "    <tr>\n",
              "      <th>1524</th>\n",
              "      <td>539</td>\n",
              "      <td>-1.738582</td>\n",
              "      <td>0.052740</td>\n",
              "      <td>1.187057</td>\n",
              "      <td>-0.656652</td>\n",
              "      <td>0.920623</td>\n",
              "      <td>-0.291788</td>\n",
              "      <td>0.269083</td>\n",
              "      <td>0.140631</td>\n",
              "      <td>0.023464</td>\n",
              "      <td>...</td>\n",
              "      <td>-0.192036</td>\n",
              "      <td>-0.261879</td>\n",
              "      <td>-0.237477</td>\n",
              "      <td>-0.335040</td>\n",
              "      <td>0.240323</td>\n",
              "      <td>-0.345129</td>\n",
              "      <td>-0.383563</td>\n",
              "      <td>1.00</td>\n",
              "      <td>1</td>\n",
              "      <td>3</td>\n",
              "    </tr>\n",
              "    <tr>\n",
              "      <th>1525</th>\n",
              "      <td>472</td>\n",
              "      <td>-3.043541</td>\n",
              "      <td>-3.157307</td>\n",
              "      <td>1.088463</td>\n",
              "      <td>2.288644</td>\n",
              "      <td>1.359805</td>\n",
              "      <td>-1.064823</td>\n",
              "      <td>0.325574</td>\n",
              "      <td>-0.067794</td>\n",
              "      <td>-0.270953</td>\n",
              "      <td>...</td>\n",
              "      <td>0.435477</td>\n",
              "      <td>1.375966</td>\n",
              "      <td>-0.293803</td>\n",
              "      <td>0.279798</td>\n",
              "      <td>-0.145362</td>\n",
              "      <td>-0.252773</td>\n",
              "      <td>0.035764</td>\n",
              "      <td>529.00</td>\n",
              "      <td>1</td>\n",
              "      <td>1</td>\n",
              "    </tr>\n",
              "  </tbody>\n",
              "</table>\n",
              "<p>1526 rows × 32 columns</p>\n",
              "</div>\n",
              "      <button class=\"colab-df-convert\" onclick=\"convertToInteractive('df-615b89dd-b934-459f-96a7-281a4b639cbb')\"\n",
              "              title=\"Convert this dataframe to an interactive table.\"\n",
              "              style=\"display:none;\">\n",
              "        \n",
              "  <svg xmlns=\"http://www.w3.org/2000/svg\" height=\"24px\"viewBox=\"0 0 24 24\"\n",
              "       width=\"24px\">\n",
              "    <path d=\"M0 0h24v24H0V0z\" fill=\"none\"/>\n",
              "    <path d=\"M18.56 5.44l.94 2.06.94-2.06 2.06-.94-2.06-.94-.94-2.06-.94 2.06-2.06.94zm-11 1L8.5 8.5l.94-2.06 2.06-.94-2.06-.94L8.5 2.5l-.94 2.06-2.06.94zm10 10l.94 2.06.94-2.06 2.06-.94-2.06-.94-.94-2.06-.94 2.06-2.06.94z\"/><path d=\"M17.41 7.96l-1.37-1.37c-.4-.4-.92-.59-1.43-.59-.52 0-1.04.2-1.43.59L10.3 9.45l-7.72 7.72c-.78.78-.78 2.05 0 2.83L4 21.41c.39.39.9.59 1.41.59.51 0 1.02-.2 1.41-.59l7.78-7.78 2.81-2.81c.8-.78.8-2.07 0-2.86zM5.41 20L4 18.59l7.72-7.72 1.47 1.35L5.41 20z\"/>\n",
              "  </svg>\n",
              "      </button>\n",
              "      \n",
              "  <style>\n",
              "    .colab-df-container {\n",
              "      display:flex;\n",
              "      flex-wrap:wrap;\n",
              "      gap: 12px;\n",
              "    }\n",
              "\n",
              "    .colab-df-convert {\n",
              "      background-color: #E8F0FE;\n",
              "      border: none;\n",
              "      border-radius: 50%;\n",
              "      cursor: pointer;\n",
              "      display: none;\n",
              "      fill: #1967D2;\n",
              "      height: 32px;\n",
              "      padding: 0 0 0 0;\n",
              "      width: 32px;\n",
              "    }\n",
              "\n",
              "    .colab-df-convert:hover {\n",
              "      background-color: #E2EBFA;\n",
              "      box-shadow: 0px 1px 2px rgba(60, 64, 67, 0.3), 0px 1px 3px 1px rgba(60, 64, 67, 0.15);\n",
              "      fill: #174EA6;\n",
              "    }\n",
              "\n",
              "    [theme=dark] .colab-df-convert {\n",
              "      background-color: #3B4455;\n",
              "      fill: #D2E3FC;\n",
              "    }\n",
              "\n",
              "    [theme=dark] .colab-df-convert:hover {\n",
              "      background-color: #434B5C;\n",
              "      box-shadow: 0px 1px 3px 1px rgba(0, 0, 0, 0.15);\n",
              "      filter: drop-shadow(0px 1px 2px rgba(0, 0, 0, 0.3));\n",
              "      fill: #FFFFFF;\n",
              "    }\n",
              "  </style>\n",
              "\n",
              "      <script>\n",
              "        const buttonEl =\n",
              "          document.querySelector('#df-615b89dd-b934-459f-96a7-281a4b639cbb button.colab-df-convert');\n",
              "        buttonEl.style.display =\n",
              "          google.colab.kernel.accessAllowed ? 'block' : 'none';\n",
              "\n",
              "        async function convertToInteractive(key) {\n",
              "          const element = document.querySelector('#df-615b89dd-b934-459f-96a7-281a4b639cbb');\n",
              "          const dataTable =\n",
              "            await google.colab.kernel.invokeFunction('convertToInteractive',\n",
              "                                                     [key], {});\n",
              "          if (!dataTable) return;\n",
              "\n",
              "          const docLinkHtml = 'Like what you see? Visit the ' +\n",
              "            '<a target=\"_blank\" href=https://colab.research.google.com/notebooks/data_table.ipynb>data table notebook</a>'\n",
              "            + ' to learn more about interactive tables.';\n",
              "          element.innerHTML = '';\n",
              "          dataTable['output_type'] = 'display_data';\n",
              "          await google.colab.output.renderOutput(dataTable, element);\n",
              "          const docLink = document.createElement('div');\n",
              "          docLink.innerHTML = docLinkHtml;\n",
              "          element.appendChild(docLink);\n",
              "        }\n",
              "      </script>\n",
              "    </div>\n",
              "  </div>\n",
              "  "
            ]
          },
          "metadata": {},
          "execution_count": 931
        }
      ]
    },
    {
      "cell_type": "code",
      "source": [
        "size=0\n",
        "clusters = []\n",
        "for i in range(0,k):\n",
        "  print(i,\" \", len(resampled[resampled['labels'] == i]))\n",
        "  size = size + len(resampled[resampled['labels'] == i])\n",
        "  clusters.append(resampled[resampled['labels'] == i])\n",
        "\n",
        "avg_size = size//k\n",
        "print(avg_size)"
      ],
      "metadata": {
        "colab": {
          "base_uri": "https://localhost:8080/"
        },
        "id": "zJDTsJtRC_k0",
        "outputId": "d8dea7e6-7996-4ee6-eaec-8b7592befe50"
      },
      "execution_count": 932,
      "outputs": [
        {
          "output_type": "stream",
          "name": "stdout",
          "text": [
            "0   183\n",
            "1   102\n",
            "2   177\n",
            "3   320\n",
            "4   1\n",
            "5   180\n",
            "6   6\n",
            "7   13\n",
            "8   127\n",
            "9   162\n",
            "127\n"
          ]
        }
      ]
    },
    {
      "cell_type": "code",
      "source": [
        "import random\n",
        "random_cluster = random.sample(clusters,k//2)\n",
        "\n",
        "sample3 = pd.DataFrame()\n",
        "for sam in random_cluster:\n",
        "  sample3 = pd.concat([sample3,sam],axis=0)\n",
        "\n",
        "sample3.Class.value_counts()"
      ],
      "metadata": {
        "colab": {
          "base_uri": "https://localhost:8080/"
        },
        "id": "BlHXQFVOWRuU",
        "outputId": "b4165407-dfd7-4d86-eea9-76007469ed66"
      },
      "execution_count": 933,
      "outputs": [
        {
          "output_type": "execute_result",
          "data": {
            "text/plain": [
              "1    366\n",
              "0    282\n",
              "Name: Class, dtype: int64"
            ]
          },
          "metadata": {},
          "execution_count": 933
        }
      ]
    },
    {
      "cell_type": "code",
      "source": [
        "sample3 = sample3.sample(n=n2,replace=True,random_state=20)"
      ],
      "metadata": {
        "id": "o5jjYNOsLJ7V"
      },
      "execution_count": 934,
      "outputs": []
    },
    {
      "cell_type": "code",
      "source": [
        "sample3.Class.value_counts()"
      ],
      "metadata": {
        "colab": {
          "base_uri": "https://localhost:8080/"
        },
        "id": "1lUgeRayLJ5A",
        "outputId": "bfab7d2f-0d0a-4f80-92c3-2098ec1b329d"
      },
      "execution_count": 935,
      "outputs": [
        {
          "output_type": "execute_result",
          "data": {
            "text/plain": [
              "1    838\n",
              "0    699\n",
              "Name: Class, dtype: int64"
            ]
          },
          "metadata": {},
          "execution_count": 935
        }
      ]
    },
    {
      "cell_type": "code",
      "source": [
        "resampled.drop('labels',axis=1,inplace=True)\n",
        "resampled"
      ],
      "metadata": {
        "colab": {
          "base_uri": "https://localhost:8080/",
          "height": 488
        },
        "id": "BIMf3F4dVM-F",
        "outputId": "995662a2-4b69-437c-d497-af57e48c4489"
      },
      "execution_count": 936,
      "outputs": [
        {
          "output_type": "execute_result",
          "data": {
            "text/plain": [
              "      Time        V1        V2        V3        V4        V5        V6  \\\n",
              "0        0 -1.359807 -0.072781  2.536347  1.378155 -0.338321  0.462388   \n",
              "1        0  1.191857  0.266151  0.166480  0.448154  0.060018 -0.082361   \n",
              "2        1 -1.358354 -1.340163  1.773209  0.379780 -0.503198  1.800499   \n",
              "3        1 -0.966272 -0.185226  1.792993 -0.863291 -0.010309  1.247203   \n",
              "4        2 -1.158233  0.877737  1.548718  0.403034 -0.407193  0.095921   \n",
              "...    ...       ...       ...       ...       ...       ...       ...   \n",
              "1521   529 -2.000567 -2.495484  2.467149  1.140053  2.462010  0.594262   \n",
              "1522   164  0.073497  0.551033  0.451890  0.114964  0.822947  0.251480   \n",
              "1523   164  0.073497  0.551033  0.451890  0.114964  0.822947  0.251480   \n",
              "1524   539 -1.738582  0.052740  1.187057 -0.656652  0.920623 -0.291788   \n",
              "1525   472 -3.043541 -3.157307  1.088463  2.288644  1.359805 -1.064823   \n",
              "\n",
              "            V7        V8        V9  ...       V21       V22       V23  \\\n",
              "0     0.239599  0.098698  0.363787  ... -0.018307  0.277838 -0.110474   \n",
              "1    -0.078803  0.085102 -0.255425  ... -0.225775 -0.638672  0.101288   \n",
              "2     0.791461  0.247676 -1.514654  ...  0.247998  0.771679  0.909412   \n",
              "3     0.237609  0.377436 -1.387024  ... -0.108300  0.005274 -0.190321   \n",
              "4     0.592941 -0.270533  0.817739  ... -0.009431  0.798278 -0.137458   \n",
              "...        ...       ...       ...  ...       ...       ...       ...   \n",
              "1521 -2.110183  0.788347  0.958809  ...  0.422452  1.195394  0.297836   \n",
              "1522  0.296319  0.139497 -0.123050  ... -0.128758 -0.381932  0.151012   \n",
              "1523  0.296319  0.139497 -0.123050  ... -0.128758 -0.381932  0.151012   \n",
              "1524  0.269083  0.140631  0.023464  ... -0.179545 -0.192036 -0.261879   \n",
              "1525  0.325574 -0.067794 -0.270953  ...  0.661696  0.435477  1.375966   \n",
              "\n",
              "           V24       V25       V26       V27       V28  Amount  Class  \n",
              "0     0.066928  0.128539 -0.189115  0.133558 -0.021053  149.62      0  \n",
              "1    -0.339846  0.167170  0.125895 -0.008983  0.014724    2.69      1  \n",
              "2    -0.689281 -0.327642 -0.139097 -0.055353 -0.059752  378.66      0  \n",
              "3    -1.175575  0.647376 -0.221929  0.062723  0.061458  123.50      0  \n",
              "4     0.141267 -0.206010  0.502292  0.219422  0.215153   69.99      0  \n",
              "...        ...       ...       ...       ...       ...     ...    ...  \n",
              "1521 -0.857105 -0.219322  0.861019 -0.124622 -0.171060    1.50      1  \n",
              "1522 -1.363967 -1.389079  0.075412  0.231750  0.230171    0.99      1  \n",
              "1523 -1.363967 -1.389079  0.075412  0.231750  0.230171    0.99      1  \n",
              "1524 -0.237477 -0.335040  0.240323 -0.345129 -0.383563    1.00      1  \n",
              "1525 -0.293803  0.279798 -0.145362 -0.252773  0.035764  529.00      1  \n",
              "\n",
              "[1526 rows x 31 columns]"
            ],
            "text/html": [
              "\n",
              "  <div id=\"df-62cb4ce7-a752-4c90-8bf0-fffe1d3fe85d\">\n",
              "    <div class=\"colab-df-container\">\n",
              "      <div>\n",
              "<style scoped>\n",
              "    .dataframe tbody tr th:only-of-type {\n",
              "        vertical-align: middle;\n",
              "    }\n",
              "\n",
              "    .dataframe tbody tr th {\n",
              "        vertical-align: top;\n",
              "    }\n",
              "\n",
              "    .dataframe thead th {\n",
              "        text-align: right;\n",
              "    }\n",
              "</style>\n",
              "<table border=\"1\" class=\"dataframe\">\n",
              "  <thead>\n",
              "    <tr style=\"text-align: right;\">\n",
              "      <th></th>\n",
              "      <th>Time</th>\n",
              "      <th>V1</th>\n",
              "      <th>V2</th>\n",
              "      <th>V3</th>\n",
              "      <th>V4</th>\n",
              "      <th>V5</th>\n",
              "      <th>V6</th>\n",
              "      <th>V7</th>\n",
              "      <th>V8</th>\n",
              "      <th>V9</th>\n",
              "      <th>...</th>\n",
              "      <th>V21</th>\n",
              "      <th>V22</th>\n",
              "      <th>V23</th>\n",
              "      <th>V24</th>\n",
              "      <th>V25</th>\n",
              "      <th>V26</th>\n",
              "      <th>V27</th>\n",
              "      <th>V28</th>\n",
              "      <th>Amount</th>\n",
              "      <th>Class</th>\n",
              "    </tr>\n",
              "  </thead>\n",
              "  <tbody>\n",
              "    <tr>\n",
              "      <th>0</th>\n",
              "      <td>0</td>\n",
              "      <td>-1.359807</td>\n",
              "      <td>-0.072781</td>\n",
              "      <td>2.536347</td>\n",
              "      <td>1.378155</td>\n",
              "      <td>-0.338321</td>\n",
              "      <td>0.462388</td>\n",
              "      <td>0.239599</td>\n",
              "      <td>0.098698</td>\n",
              "      <td>0.363787</td>\n",
              "      <td>...</td>\n",
              "      <td>-0.018307</td>\n",
              "      <td>0.277838</td>\n",
              "      <td>-0.110474</td>\n",
              "      <td>0.066928</td>\n",
              "      <td>0.128539</td>\n",
              "      <td>-0.189115</td>\n",
              "      <td>0.133558</td>\n",
              "      <td>-0.021053</td>\n",
              "      <td>149.62</td>\n",
              "      <td>0</td>\n",
              "    </tr>\n",
              "    <tr>\n",
              "      <th>1</th>\n",
              "      <td>0</td>\n",
              "      <td>1.191857</td>\n",
              "      <td>0.266151</td>\n",
              "      <td>0.166480</td>\n",
              "      <td>0.448154</td>\n",
              "      <td>0.060018</td>\n",
              "      <td>-0.082361</td>\n",
              "      <td>-0.078803</td>\n",
              "      <td>0.085102</td>\n",
              "      <td>-0.255425</td>\n",
              "      <td>...</td>\n",
              "      <td>-0.225775</td>\n",
              "      <td>-0.638672</td>\n",
              "      <td>0.101288</td>\n",
              "      <td>-0.339846</td>\n",
              "      <td>0.167170</td>\n",
              "      <td>0.125895</td>\n",
              "      <td>-0.008983</td>\n",
              "      <td>0.014724</td>\n",
              "      <td>2.69</td>\n",
              "      <td>1</td>\n",
              "    </tr>\n",
              "    <tr>\n",
              "      <th>2</th>\n",
              "      <td>1</td>\n",
              "      <td>-1.358354</td>\n",
              "      <td>-1.340163</td>\n",
              "      <td>1.773209</td>\n",
              "      <td>0.379780</td>\n",
              "      <td>-0.503198</td>\n",
              "      <td>1.800499</td>\n",
              "      <td>0.791461</td>\n",
              "      <td>0.247676</td>\n",
              "      <td>-1.514654</td>\n",
              "      <td>...</td>\n",
              "      <td>0.247998</td>\n",
              "      <td>0.771679</td>\n",
              "      <td>0.909412</td>\n",
              "      <td>-0.689281</td>\n",
              "      <td>-0.327642</td>\n",
              "      <td>-0.139097</td>\n",
              "      <td>-0.055353</td>\n",
              "      <td>-0.059752</td>\n",
              "      <td>378.66</td>\n",
              "      <td>0</td>\n",
              "    </tr>\n",
              "    <tr>\n",
              "      <th>3</th>\n",
              "      <td>1</td>\n",
              "      <td>-0.966272</td>\n",
              "      <td>-0.185226</td>\n",
              "      <td>1.792993</td>\n",
              "      <td>-0.863291</td>\n",
              "      <td>-0.010309</td>\n",
              "      <td>1.247203</td>\n",
              "      <td>0.237609</td>\n",
              "      <td>0.377436</td>\n",
              "      <td>-1.387024</td>\n",
              "      <td>...</td>\n",
              "      <td>-0.108300</td>\n",
              "      <td>0.005274</td>\n",
              "      <td>-0.190321</td>\n",
              "      <td>-1.175575</td>\n",
              "      <td>0.647376</td>\n",
              "      <td>-0.221929</td>\n",
              "      <td>0.062723</td>\n",
              "      <td>0.061458</td>\n",
              "      <td>123.50</td>\n",
              "      <td>0</td>\n",
              "    </tr>\n",
              "    <tr>\n",
              "      <th>4</th>\n",
              "      <td>2</td>\n",
              "      <td>-1.158233</td>\n",
              "      <td>0.877737</td>\n",
              "      <td>1.548718</td>\n",
              "      <td>0.403034</td>\n",
              "      <td>-0.407193</td>\n",
              "      <td>0.095921</td>\n",
              "      <td>0.592941</td>\n",
              "      <td>-0.270533</td>\n",
              "      <td>0.817739</td>\n",
              "      <td>...</td>\n",
              "      <td>-0.009431</td>\n",
              "      <td>0.798278</td>\n",
              "      <td>-0.137458</td>\n",
              "      <td>0.141267</td>\n",
              "      <td>-0.206010</td>\n",
              "      <td>0.502292</td>\n",
              "      <td>0.219422</td>\n",
              "      <td>0.215153</td>\n",
              "      <td>69.99</td>\n",
              "      <td>0</td>\n",
              "    </tr>\n",
              "    <tr>\n",
              "      <th>...</th>\n",
              "      <td>...</td>\n",
              "      <td>...</td>\n",
              "      <td>...</td>\n",
              "      <td>...</td>\n",
              "      <td>...</td>\n",
              "      <td>...</td>\n",
              "      <td>...</td>\n",
              "      <td>...</td>\n",
              "      <td>...</td>\n",
              "      <td>...</td>\n",
              "      <td>...</td>\n",
              "      <td>...</td>\n",
              "      <td>...</td>\n",
              "      <td>...</td>\n",
              "      <td>...</td>\n",
              "      <td>...</td>\n",
              "      <td>...</td>\n",
              "      <td>...</td>\n",
              "      <td>...</td>\n",
              "      <td>...</td>\n",
              "      <td>...</td>\n",
              "    </tr>\n",
              "    <tr>\n",
              "      <th>1521</th>\n",
              "      <td>529</td>\n",
              "      <td>-2.000567</td>\n",
              "      <td>-2.495484</td>\n",
              "      <td>2.467149</td>\n",
              "      <td>1.140053</td>\n",
              "      <td>2.462010</td>\n",
              "      <td>0.594262</td>\n",
              "      <td>-2.110183</td>\n",
              "      <td>0.788347</td>\n",
              "      <td>0.958809</td>\n",
              "      <td>...</td>\n",
              "      <td>0.422452</td>\n",
              "      <td>1.195394</td>\n",
              "      <td>0.297836</td>\n",
              "      <td>-0.857105</td>\n",
              "      <td>-0.219322</td>\n",
              "      <td>0.861019</td>\n",
              "      <td>-0.124622</td>\n",
              "      <td>-0.171060</td>\n",
              "      <td>1.50</td>\n",
              "      <td>1</td>\n",
              "    </tr>\n",
              "    <tr>\n",
              "      <th>1522</th>\n",
              "      <td>164</td>\n",
              "      <td>0.073497</td>\n",
              "      <td>0.551033</td>\n",
              "      <td>0.451890</td>\n",
              "      <td>0.114964</td>\n",
              "      <td>0.822947</td>\n",
              "      <td>0.251480</td>\n",
              "      <td>0.296319</td>\n",
              "      <td>0.139497</td>\n",
              "      <td>-0.123050</td>\n",
              "      <td>...</td>\n",
              "      <td>-0.128758</td>\n",
              "      <td>-0.381932</td>\n",
              "      <td>0.151012</td>\n",
              "      <td>-1.363967</td>\n",
              "      <td>-1.389079</td>\n",
              "      <td>0.075412</td>\n",
              "      <td>0.231750</td>\n",
              "      <td>0.230171</td>\n",
              "      <td>0.99</td>\n",
              "      <td>1</td>\n",
              "    </tr>\n",
              "    <tr>\n",
              "      <th>1523</th>\n",
              "      <td>164</td>\n",
              "      <td>0.073497</td>\n",
              "      <td>0.551033</td>\n",
              "      <td>0.451890</td>\n",
              "      <td>0.114964</td>\n",
              "      <td>0.822947</td>\n",
              "      <td>0.251480</td>\n",
              "      <td>0.296319</td>\n",
              "      <td>0.139497</td>\n",
              "      <td>-0.123050</td>\n",
              "      <td>...</td>\n",
              "      <td>-0.128758</td>\n",
              "      <td>-0.381932</td>\n",
              "      <td>0.151012</td>\n",
              "      <td>-1.363967</td>\n",
              "      <td>-1.389079</td>\n",
              "      <td>0.075412</td>\n",
              "      <td>0.231750</td>\n",
              "      <td>0.230171</td>\n",
              "      <td>0.99</td>\n",
              "      <td>1</td>\n",
              "    </tr>\n",
              "    <tr>\n",
              "      <th>1524</th>\n",
              "      <td>539</td>\n",
              "      <td>-1.738582</td>\n",
              "      <td>0.052740</td>\n",
              "      <td>1.187057</td>\n",
              "      <td>-0.656652</td>\n",
              "      <td>0.920623</td>\n",
              "      <td>-0.291788</td>\n",
              "      <td>0.269083</td>\n",
              "      <td>0.140631</td>\n",
              "      <td>0.023464</td>\n",
              "      <td>...</td>\n",
              "      <td>-0.179545</td>\n",
              "      <td>-0.192036</td>\n",
              "      <td>-0.261879</td>\n",
              "      <td>-0.237477</td>\n",
              "      <td>-0.335040</td>\n",
              "      <td>0.240323</td>\n",
              "      <td>-0.345129</td>\n",
              "      <td>-0.383563</td>\n",
              "      <td>1.00</td>\n",
              "      <td>1</td>\n",
              "    </tr>\n",
              "    <tr>\n",
              "      <th>1525</th>\n",
              "      <td>472</td>\n",
              "      <td>-3.043541</td>\n",
              "      <td>-3.157307</td>\n",
              "      <td>1.088463</td>\n",
              "      <td>2.288644</td>\n",
              "      <td>1.359805</td>\n",
              "      <td>-1.064823</td>\n",
              "      <td>0.325574</td>\n",
              "      <td>-0.067794</td>\n",
              "      <td>-0.270953</td>\n",
              "      <td>...</td>\n",
              "      <td>0.661696</td>\n",
              "      <td>0.435477</td>\n",
              "      <td>1.375966</td>\n",
              "      <td>-0.293803</td>\n",
              "      <td>0.279798</td>\n",
              "      <td>-0.145362</td>\n",
              "      <td>-0.252773</td>\n",
              "      <td>0.035764</td>\n",
              "      <td>529.00</td>\n",
              "      <td>1</td>\n",
              "    </tr>\n",
              "  </tbody>\n",
              "</table>\n",
              "<p>1526 rows × 31 columns</p>\n",
              "</div>\n",
              "      <button class=\"colab-df-convert\" onclick=\"convertToInteractive('df-62cb4ce7-a752-4c90-8bf0-fffe1d3fe85d')\"\n",
              "              title=\"Convert this dataframe to an interactive table.\"\n",
              "              style=\"display:none;\">\n",
              "        \n",
              "  <svg xmlns=\"http://www.w3.org/2000/svg\" height=\"24px\"viewBox=\"0 0 24 24\"\n",
              "       width=\"24px\">\n",
              "    <path d=\"M0 0h24v24H0V0z\" fill=\"none\"/>\n",
              "    <path d=\"M18.56 5.44l.94 2.06.94-2.06 2.06-.94-2.06-.94-.94-2.06-.94 2.06-2.06.94zm-11 1L8.5 8.5l.94-2.06 2.06-.94-2.06-.94L8.5 2.5l-.94 2.06-2.06.94zm10 10l.94 2.06.94-2.06 2.06-.94-2.06-.94-.94-2.06-.94 2.06-2.06.94z\"/><path d=\"M17.41 7.96l-1.37-1.37c-.4-.4-.92-.59-1.43-.59-.52 0-1.04.2-1.43.59L10.3 9.45l-7.72 7.72c-.78.78-.78 2.05 0 2.83L4 21.41c.39.39.9.59 1.41.59.51 0 1.02-.2 1.41-.59l7.78-7.78 2.81-2.81c.8-.78.8-2.07 0-2.86zM5.41 20L4 18.59l7.72-7.72 1.47 1.35L5.41 20z\"/>\n",
              "  </svg>\n",
              "      </button>\n",
              "      \n",
              "  <style>\n",
              "    .colab-df-container {\n",
              "      display:flex;\n",
              "      flex-wrap:wrap;\n",
              "      gap: 12px;\n",
              "    }\n",
              "\n",
              "    .colab-df-convert {\n",
              "      background-color: #E8F0FE;\n",
              "      border: none;\n",
              "      border-radius: 50%;\n",
              "      cursor: pointer;\n",
              "      display: none;\n",
              "      fill: #1967D2;\n",
              "      height: 32px;\n",
              "      padding: 0 0 0 0;\n",
              "      width: 32px;\n",
              "    }\n",
              "\n",
              "    .colab-df-convert:hover {\n",
              "      background-color: #E2EBFA;\n",
              "      box-shadow: 0px 1px 2px rgba(60, 64, 67, 0.3), 0px 1px 3px 1px rgba(60, 64, 67, 0.15);\n",
              "      fill: #174EA6;\n",
              "    }\n",
              "\n",
              "    [theme=dark] .colab-df-convert {\n",
              "      background-color: #3B4455;\n",
              "      fill: #D2E3FC;\n",
              "    }\n",
              "\n",
              "    [theme=dark] .colab-df-convert:hover {\n",
              "      background-color: #434B5C;\n",
              "      box-shadow: 0px 1px 3px 1px rgba(0, 0, 0, 0.15);\n",
              "      filter: drop-shadow(0px 1px 2px rgba(0, 0, 0, 0.3));\n",
              "      fill: #FFFFFF;\n",
              "    }\n",
              "  </style>\n",
              "\n",
              "      <script>\n",
              "        const buttonEl =\n",
              "          document.querySelector('#df-62cb4ce7-a752-4c90-8bf0-fffe1d3fe85d button.colab-df-convert');\n",
              "        buttonEl.style.display =\n",
              "          google.colab.kernel.accessAllowed ? 'block' : 'none';\n",
              "\n",
              "        async function convertToInteractive(key) {\n",
              "          const element = document.querySelector('#df-62cb4ce7-a752-4c90-8bf0-fffe1d3fe85d');\n",
              "          const dataTable =\n",
              "            await google.colab.kernel.invokeFunction('convertToInteractive',\n",
              "                                                     [key], {});\n",
              "          if (!dataTable) return;\n",
              "\n",
              "          const docLinkHtml = 'Like what you see? Visit the ' +\n",
              "            '<a target=\"_blank\" href=https://colab.research.google.com/notebooks/data_table.ipynb>data table notebook</a>'\n",
              "            + ' to learn more about interactive tables.';\n",
              "          element.innerHTML = '';\n",
              "          dataTable['output_type'] = 'display_data';\n",
              "          await google.colab.output.renderOutput(dataTable, element);\n",
              "          const docLink = document.createElement('div');\n",
              "          docLink.innerHTML = docLinkHtml;\n",
              "          element.appendChild(docLink);\n",
              "        }\n",
              "      </script>\n",
              "    </div>\n",
              "  </div>\n",
              "  "
            ]
          },
          "metadata": {},
          "execution_count": 936
        }
      ]
    },
    {
      "cell_type": "code",
      "source": [
        "len(resampled)"
      ],
      "metadata": {
        "colab": {
          "base_uri": "https://localhost:8080/"
        },
        "id": "Z6EA_PIUWYDd",
        "outputId": "67a7db5c-851a-4c72-95ca-c6786cdef943"
      },
      "execution_count": 937,
      "outputs": [
        {
          "output_type": "execute_result",
          "data": {
            "text/plain": [
              "1526"
            ]
          },
          "metadata": {},
          "execution_count": 937
        }
      ]
    },
    {
      "cell_type": "code",
      "source": [
        "## Stratified Sampling\n",
        "shuffled_resampled = resampled.sample(frac=1.0, random_state=100)\n",
        "n = len(shuffled_resampled)\n",
        "print(n)\n",
        "k = int(math.sqrt(n))\n",
        "print(k)\n",
        "sample4 = shuffled_resampled.iloc[::k]\n",
        "sample4.Class.value_counts()"
      ],
      "metadata": {
        "colab": {
          "base_uri": "https://localhost:8080/"
        },
        "id": "_3oPuZAELJzg",
        "outputId": "fee7c576-43b7-4caa-8827-2eaed288a3e5"
      },
      "execution_count": 938,
      "outputs": [
        {
          "output_type": "stream",
          "name": "stdout",
          "text": [
            "1526\n",
            "39\n"
          ]
        },
        {
          "output_type": "execute_result",
          "data": {
            "text/plain": [
              "0    25\n",
              "1    15\n",
              "Name: Class, dtype: int64"
            ]
          },
          "metadata": {},
          "execution_count": 938
        }
      ]
    },
    {
      "cell_type": "code",
      "source": [
        "## Stratifies systematic sampling\n",
        "### Here i am going to divide my dataset into 2 stratas according to the 'Class' label and then i am going to apply systematic sampling on\n",
        "### each strata and after applying applying systematic sampling to each strata i am going to create a sample of size n2(size calculated\n",
        "### above for stratified sampling) \n",
        "#### This technique is a good option for selecting samples as it ensures that each subgroup of the population is represented in the sample\n",
        "#### with randomness. Randomness decreases biasness, increases diversity, improves generalisation\n",
        "\n",
        "resampled_0 = resampled[resampled.Class == 0]\n",
        "resampled_1 = resampled[resampled.Class == 1]\n",
        "\n",
        "n = len(resampled_0)\n",
        "k = int(math.sqrt(n))\n",
        "a = resampled_0.iloc[::k]\n",
        "\n",
        "n_ = len(resampled_1)\n",
        "k_ = int(math.sqrt(n_))\n",
        "b = resampled_1.iloc[::k_]\n",
        "\n",
        "ab = pd.concat([a,b],axis=0)\n",
        "\n",
        "sample5 = ab.sample(n=n2,replace=True,random_state=60)\n",
        "sample5.Class.value_counts()\n"
      ],
      "metadata": {
        "colab": {
          "base_uri": "https://localhost:8080/"
        },
        "id": "CR4naf2kLJm0",
        "outputId": "8638ae25-61ae-4fac-f3ab-ea7869ef5440"
      },
      "execution_count": 939,
      "outputs": [
        {
          "output_type": "execute_result",
          "data": {
            "text/plain": [
              "0    789\n",
              "1    748\n",
              "Name: Class, dtype: int64"
            ]
          },
          "metadata": {},
          "execution_count": 939
        }
      ]
    },
    {
      "cell_type": "code",
      "source": [
        "sample1_inputs = sample1.drop('Class',axis=1)\n",
        "sample1_targets = sample1['Class']\n",
        "\n",
        "sample2_inputs = sample2.drop('Class',axis=1)\n",
        "sample2_targets = sample2['Class']\n",
        "\n",
        "sample3_inputs = sample3.drop('Class',axis=1)\n",
        "sample3_targets = sample3['Class']\n",
        "sample3_inputs.drop('labels',axis=1,inplace=True)\n",
        "\n",
        "sample4_inputs = sample4.drop('Class',axis=1)\n",
        "sample4_targets = sample4['Class']\n",
        "\n",
        "sample5_inputs = sample5.drop('Class',axis=1)\n",
        "sample5_targets = sample5['Class']"
      ],
      "metadata": {
        "id": "pXo4tbQWg_4X"
      },
      "execution_count": 940,
      "outputs": []
    },
    {
      "cell_type": "markdown",
      "source": [
        "# Applying different ML Model on the different samples created"
      ],
      "metadata": {
        "id": "4A7VwtEmdlVg"
      }
    },
    {
      "cell_type": "markdown",
      "source": [
        "##### The Five ML Models that i am going to apply on each sample are:\n",
        "##### 1) Logistic Regression\n",
        "##### 2) Random Forest Classifier\n",
        "##### 3) XGBoost Classifier\n",
        "##### 4) ExtraTreesClassifier\n",
        "##### 5) KNN"
      ],
      "metadata": {
        "id": "mfUjKMRnd1lE"
      }
    },
    {
      "cell_type": "code",
      "source": [
        "# importing the necessary libraries\n",
        "from sklearn.linear_model import LogisticRegression\n",
        "from sklearn.ensemble import ExtraTreesClassifier, RandomForestClassifier\n",
        "import xgboost as xgb\n",
        "from sklearn.neighbors import KNeighborsClassifier\n",
        "from sklearn.metrics import accuracy_score"
      ],
      "metadata": {
        "id": "GuFsFZ1PZzfB"
      },
      "execution_count": 941,
      "outputs": []
    },
    {
      "cell_type": "code",
      "source": [
        "model1 = LogisticRegression()\n",
        "model2 = ExtraTreesClassifier()\n",
        "model3 = RandomForestClassifier()\n",
        "model4 = xgb.XGBClassifier()\n",
        "model5 = KNeighborsClassifier(n_neighbors=5)"
      ],
      "metadata": {
        "id": "uNsfrJbQZzaG"
      },
      "execution_count": 942,
      "outputs": []
    },
    {
      "cell_type": "markdown",
      "source": [
        "## Sample 1"
      ],
      "metadata": {
        "id": "70BgdFBN7I_m"
      }
    },
    {
      "cell_type": "code",
      "source": [
        "model1.fit(sample1_inputs,sample1_targets)\n",
        "model2.fit(sample1_inputs,sample1_targets)\n",
        "model3.fit(sample1_inputs,sample1_targets)\n",
        "model4.fit(sample1_inputs,sample1_targets)\n",
        "model5.fit(sample1_inputs,sample1_targets)"
      ],
      "metadata": {
        "id": "qwpt72mEZzXc",
        "colab": {
          "base_uri": "https://localhost:8080/"
        },
        "outputId": "7319848f-506e-44ad-870f-520a4635167b"
      },
      "execution_count": 943,
      "outputs": [
        {
          "output_type": "stream",
          "name": "stderr",
          "text": [
            "/usr/local/lib/python3.8/dist-packages/sklearn/linear_model/_logistic.py:814: ConvergenceWarning: lbfgs failed to converge (status=1):\n",
            "STOP: TOTAL NO. of ITERATIONS REACHED LIMIT.\n",
            "\n",
            "Increase the number of iterations (max_iter) or scale the data as shown in:\n",
            "    https://scikit-learn.org/stable/modules/preprocessing.html\n",
            "Please also refer to the documentation for alternative solver options:\n",
            "    https://scikit-learn.org/stable/modules/linear_model.html#logistic-regression\n",
            "  n_iter_i = _check_optimize_result(\n"
          ]
        },
        {
          "output_type": "execute_result",
          "data": {
            "text/plain": [
              "KNeighborsClassifier()"
            ]
          },
          "metadata": {},
          "execution_count": 943
        }
      ]
    },
    {
      "cell_type": "code",
      "source": [
        "val_preds1 = model1.predict(val_inputs)\n",
        "val_preds2 = model2.predict(val_inputs)\n",
        "val_preds3 = model3.predict(val_inputs)\n",
        "val_preds4 = model4.predict(val_inputs)\n",
        "val_preds5 = model5.predict(val_inputs)"
      ],
      "metadata": {
        "id": "ecn5J6N2dwK0"
      },
      "execution_count": 944,
      "outputs": []
    },
    {
      "cell_type": "code",
      "source": [
        "as1 = accuracy_score(val_preds1,val_targets) * 100\n",
        "as2 = accuracy_score(val_preds2,val_targets) * 100\n",
        "as3 = accuracy_score(val_preds3,val_targets) * 100\n",
        "as4 = accuracy_score(val_preds4,val_targets) * 100\n",
        "as5 = accuracy_score(val_preds5,val_targets) * 100"
      ],
      "metadata": {
        "id": "epIWWmJ5dwIb"
      },
      "execution_count": 945,
      "outputs": []
    },
    {
      "cell_type": "code",
      "source": [
        "print(\"Accuracy Score for model 1 : \",as1)\n",
        "print(\"Accuracy Score for model 2 : \",as2)\n",
        "print(\"Accuracy Score for model 3 : \",as3)\n",
        "print(\"Accuracy Score for model 4 : \",as4)\n",
        "print(\"Accuracy Score for model 5 : \",as4)"
      ],
      "metadata": {
        "colab": {
          "base_uri": "https://localhost:8080/"
        },
        "id": "MCdVVEgldwGl",
        "outputId": "aae06b88-cff6-4c73-c5f0-99b5f4081bc5"
      },
      "execution_count": 946,
      "outputs": [
        {
          "output_type": "stream",
          "name": "stdout",
          "text": [
            "Accuracy Score for model 1 :  79.74137931034483\n",
            "Accuracy Score for model 2 :  99.56896551724138\n",
            "Accuracy Score for model 3 :  99.13793103448276\n",
            "Accuracy Score for model 4 :  95.6896551724138\n",
            "Accuracy Score for model 5 :  95.6896551724138\n"
          ]
        }
      ]
    },
    {
      "cell_type": "code",
      "source": [
        "acc_sample1 = pd.Series([as1,as2,as3,as4,as5])\n",
        "print(acc_sample1)"
      ],
      "metadata": {
        "id": "ZxMkBIZsZzco",
        "colab": {
          "base_uri": "https://localhost:8080/"
        },
        "outputId": "6808844c-b576-47a1-9df2-88be200624cf"
      },
      "execution_count": 947,
      "outputs": [
        {
          "output_type": "stream",
          "name": "stdout",
          "text": [
            "0    79.741379\n",
            "1    99.568966\n",
            "2    99.137931\n",
            "3    95.689655\n",
            "4    92.672414\n",
            "dtype: float64\n"
          ]
        }
      ]
    },
    {
      "cell_type": "markdown",
      "source": [
        "## Sample 2"
      ],
      "metadata": {
        "id": "5HtLKVUN7Q9I"
      }
    },
    {
      "cell_type": "code",
      "source": [
        "model1.fit(sample2_inputs,sample2_targets)\n",
        "model2.fit(sample2_inputs,sample2_targets)\n",
        "model3.fit(sample2_inputs,sample2_targets)\n",
        "model4.fit(sample2_inputs,sample2_targets)\n",
        "model5.fit(sample2_inputs,sample2_targets)"
      ],
      "metadata": {
        "colab": {
          "base_uri": "https://localhost:8080/"
        },
        "id": "tV9Jm8Wn7WLN",
        "outputId": "7fff0b6b-8dca-4f18-cfc4-f097710bf660"
      },
      "execution_count": 948,
      "outputs": [
        {
          "output_type": "stream",
          "name": "stderr",
          "text": [
            "/usr/local/lib/python3.8/dist-packages/sklearn/linear_model/_logistic.py:814: ConvergenceWarning: lbfgs failed to converge (status=1):\n",
            "STOP: TOTAL NO. of ITERATIONS REACHED LIMIT.\n",
            "\n",
            "Increase the number of iterations (max_iter) or scale the data as shown in:\n",
            "    https://scikit-learn.org/stable/modules/preprocessing.html\n",
            "Please also refer to the documentation for alternative solver options:\n",
            "    https://scikit-learn.org/stable/modules/linear_model.html#logistic-regression\n",
            "  n_iter_i = _check_optimize_result(\n"
          ]
        },
        {
          "output_type": "execute_result",
          "data": {
            "text/plain": [
              "KNeighborsClassifier()"
            ]
          },
          "metadata": {},
          "execution_count": 948
        }
      ]
    },
    {
      "cell_type": "code",
      "source": [
        "val_preds1 = model1.predict(val_inputs)\n",
        "val_preds2 = model2.predict(val_inputs)\n",
        "val_preds3 = model3.predict(val_inputs)\n",
        "val_preds4 = model4.predict(val_inputs)\n",
        "val_preds5 = model5.predict(val_inputs)"
      ],
      "metadata": {
        "id": "rXRbzpPZhtT4"
      },
      "execution_count": 949,
      "outputs": []
    },
    {
      "cell_type": "code",
      "source": [
        "as1 = accuracy_score(val_preds1,val_targets) * 100\n",
        "as2 = accuracy_score(val_preds2,val_targets) * 100\n",
        "as3 = accuracy_score(val_preds3,val_targets) * 100\n",
        "as4 = accuracy_score(val_preds4,val_targets) * 100\n",
        "as5 = accuracy_score(val_preds5,val_targets) * 100"
      ],
      "metadata": {
        "id": "8qRuJgHN7fHl"
      },
      "execution_count": 950,
      "outputs": []
    },
    {
      "cell_type": "code",
      "source": [
        "print(\"Accuracy Score for model 1 : \",as1)\n",
        "print(\"Accuracy Score for model 2 : \",as2)\n",
        "print(\"Accuracy Score for model 3 : \",as3)\n",
        "print(\"Accuracy Score for model 4 : \",as4)\n",
        "print(\"Accuracy Score for model 5 : \",as4)"
      ],
      "metadata": {
        "colab": {
          "base_uri": "https://localhost:8080/"
        },
        "id": "HW-_auI4dwEJ",
        "outputId": "299d5109-f2f2-477a-94fc-57b5dda9d7ba"
      },
      "execution_count": 951,
      "outputs": [
        {
          "output_type": "stream",
          "name": "stdout",
          "text": [
            "Accuracy Score for model 1 :  84.91379310344827\n",
            "Accuracy Score for model 2 :  100.0\n",
            "Accuracy Score for model 3 :  100.0\n",
            "Accuracy Score for model 4 :  99.13793103448276\n",
            "Accuracy Score for model 5 :  99.13793103448276\n"
          ]
        }
      ]
    },
    {
      "cell_type": "code",
      "source": [
        "acc_sample2 = pd.Series([as1,as2,as3,as4,as5])\n",
        "print(acc_sample2)"
      ],
      "metadata": {
        "colab": {
          "base_uri": "https://localhost:8080/"
        },
        "id": "EdwylTG-7h1x",
        "outputId": "1304a5e6-23ad-4980-fe60-34fe297ed9b4"
      },
      "execution_count": 952,
      "outputs": [
        {
          "output_type": "stream",
          "name": "stdout",
          "text": [
            "0     84.913793\n",
            "1    100.000000\n",
            "2    100.000000\n",
            "3     99.137931\n",
            "4     99.568966\n",
            "dtype: float64\n"
          ]
        }
      ]
    },
    {
      "cell_type": "markdown",
      "source": [
        "## Sample 3"
      ],
      "metadata": {
        "id": "UbVXJQ3G7s7U"
      }
    },
    {
      "cell_type": "code",
      "source": [
        "model1.fit(sample3_inputs,sample3_targets)\n",
        "model2.fit(sample3_inputs,sample3_targets)\n",
        "model3.fit(sample3_inputs,sample3_targets)\n",
        "model4.fit(sample3_inputs,sample3_targets)\n",
        "model5.fit(sample3_inputs,sample3_targets)"
      ],
      "metadata": {
        "colab": {
          "base_uri": "https://localhost:8080/"
        },
        "id": "bHRsAR3n7sn4",
        "outputId": "71c5d056-7288-4d74-88e5-bb0a37e56180"
      },
      "execution_count": 953,
      "outputs": [
        {
          "output_type": "stream",
          "name": "stderr",
          "text": [
            "/usr/local/lib/python3.8/dist-packages/sklearn/linear_model/_logistic.py:814: ConvergenceWarning: lbfgs failed to converge (status=1):\n",
            "STOP: TOTAL NO. of ITERATIONS REACHED LIMIT.\n",
            "\n",
            "Increase the number of iterations (max_iter) or scale the data as shown in:\n",
            "    https://scikit-learn.org/stable/modules/preprocessing.html\n",
            "Please also refer to the documentation for alternative solver options:\n",
            "    https://scikit-learn.org/stable/modules/linear_model.html#logistic-regression\n",
            "  n_iter_i = _check_optimize_result(\n"
          ]
        },
        {
          "output_type": "execute_result",
          "data": {
            "text/plain": [
              "KNeighborsClassifier()"
            ]
          },
          "metadata": {},
          "execution_count": 953
        }
      ]
    },
    {
      "cell_type": "code",
      "source": [
        "val_preds1 = model1.predict(val_inputs)\n",
        "val_preds2 = model2.predict(val_inputs)\n",
        "val_preds3 = model3.predict(val_inputs)\n",
        "val_preds4 = model4.predict(val_inputs)\n",
        "val_preds5 = model5.predict(val_inputs)"
      ],
      "metadata": {
        "id": "9cu2L-IJ7hzp"
      },
      "execution_count": 954,
      "outputs": []
    },
    {
      "cell_type": "code",
      "source": [
        "as1 = accuracy_score(val_preds1,val_targets) * 100\n",
        "as2 = accuracy_score(val_preds2,val_targets) * 100\n",
        "as3 = accuracy_score(val_preds3,val_targets) * 100\n",
        "as4 = accuracy_score(val_preds4,val_targets) * 100\n",
        "as5 = accuracy_score(val_preds5,val_targets) * 100"
      ],
      "metadata": {
        "id": "dRnyMvdy7hxg"
      },
      "execution_count": 955,
      "outputs": []
    },
    {
      "cell_type": "code",
      "source": [
        "print(\"Accuracy Score for model 1 : \",as1)\n",
        "print(\"Accuracy Score for model 2 : \",as2)\n",
        "print(\"Accuracy Score for model 3 : \",as3)\n",
        "print(\"Accuracy Score for model 4 : \",as4)\n",
        "print(\"Accuracy Score for model 5 : \",as4)"
      ],
      "metadata": {
        "colab": {
          "base_uri": "https://localhost:8080/"
        },
        "id": "auL68aal7hvT",
        "outputId": "430ae1e6-812b-4590-b173-38b2a8374395"
      },
      "execution_count": 956,
      "outputs": [
        {
          "output_type": "stream",
          "name": "stdout",
          "text": [
            "Accuracy Score for model 1 :  93.53448275862068\n",
            "Accuracy Score for model 2 :  99.56896551724138\n",
            "Accuracy Score for model 3 :  99.56896551724138\n",
            "Accuracy Score for model 4 :  99.56896551724138\n",
            "Accuracy Score for model 5 :  99.56896551724138\n"
          ]
        }
      ]
    },
    {
      "cell_type": "code",
      "source": [
        "acc_sample3 = pd.Series([as1,as2,as3,as4,as5])\n",
        "print(acc_sample3)"
      ],
      "metadata": {
        "colab": {
          "base_uri": "https://localhost:8080/"
        },
        "id": "3zrSsG497hs8",
        "outputId": "acedf562-8f45-4486-981f-5ac9ca66f987"
      },
      "execution_count": 957,
      "outputs": [
        {
          "output_type": "stream",
          "name": "stdout",
          "text": [
            "0    93.534483\n",
            "1    99.568966\n",
            "2    99.568966\n",
            "3    99.568966\n",
            "4    99.568966\n",
            "dtype: float64\n"
          ]
        }
      ]
    },
    {
      "cell_type": "markdown",
      "source": [
        "## Sample 4"
      ],
      "metadata": {
        "id": "neoL4Oqg9j1r"
      }
    },
    {
      "cell_type": "code",
      "source": [
        "model1.fit(sample4_inputs,sample4_targets)\n",
        "model2.fit(sample4_inputs,sample4_targets)\n",
        "model3.fit(sample4_inputs,sample4_targets)\n",
        "model4.fit(sample4_inputs,sample4_targets)\n",
        "model5.fit(sample4_inputs,sample4_targets)"
      ],
      "metadata": {
        "colab": {
          "base_uri": "https://localhost:8080/"
        },
        "id": "5-vOEClN9lbk",
        "outputId": "f5c135ed-e355-4294-9f7a-5190541f2fdc"
      },
      "execution_count": 958,
      "outputs": [
        {
          "output_type": "stream",
          "name": "stderr",
          "text": [
            "/usr/local/lib/python3.8/dist-packages/sklearn/linear_model/_logistic.py:814: ConvergenceWarning: lbfgs failed to converge (status=1):\n",
            "STOP: TOTAL NO. of ITERATIONS REACHED LIMIT.\n",
            "\n",
            "Increase the number of iterations (max_iter) or scale the data as shown in:\n",
            "    https://scikit-learn.org/stable/modules/preprocessing.html\n",
            "Please also refer to the documentation for alternative solver options:\n",
            "    https://scikit-learn.org/stable/modules/linear_model.html#logistic-regression\n",
            "  n_iter_i = _check_optimize_result(\n"
          ]
        },
        {
          "output_type": "execute_result",
          "data": {
            "text/plain": [
              "KNeighborsClassifier()"
            ]
          },
          "metadata": {},
          "execution_count": 958
        }
      ]
    },
    {
      "cell_type": "code",
      "source": [
        "val_preds1 = model1.predict(val_inputs)\n",
        "val_preds2 = model2.predict(val_inputs)\n",
        "val_preds3 = model3.predict(val_inputs)\n",
        "val_preds4 = model4.predict(val_inputs)\n",
        "val_preds5 = model5.predict(val_inputs)"
      ],
      "metadata": {
        "id": "Oq9ginHn9lY-"
      },
      "execution_count": 959,
      "outputs": []
    },
    {
      "cell_type": "code",
      "source": [
        "as1 = accuracy_score(val_preds1,val_targets) * 100\n",
        "as2 = accuracy_score(val_preds2,val_targets) * 100\n",
        "as3 = accuracy_score(val_preds3,val_targets) * 100\n",
        "as4 = accuracy_score(val_preds4,val_targets) * 100\n",
        "as5 = accuracy_score(val_preds5,val_targets) * 100"
      ],
      "metadata": {
        "id": "KBmhcp9m9lWh"
      },
      "execution_count": 960,
      "outputs": []
    },
    {
      "cell_type": "code",
      "source": [
        "print(\"Accuracy Score for model 1 : \",as1)\n",
        "print(\"Accuracy Score for model 2 : \",as2)\n",
        "print(\"Accuracy Score for model 3 : \",as3)\n",
        "print(\"Accuracy Score for model 4 : \",as4)\n",
        "print(\"Accuracy Score for model 5 : \",as4)"
      ],
      "metadata": {
        "colab": {
          "base_uri": "https://localhost:8080/"
        },
        "id": "Ae7qzmaY9lUH",
        "outputId": "5040b004-8c84-4773-b794-3a9223f28520"
      },
      "execution_count": 961,
      "outputs": [
        {
          "output_type": "stream",
          "name": "stdout",
          "text": [
            "Accuracy Score for model 1 :  64.65517241379311\n",
            "Accuracy Score for model 2 :  93.10344827586206\n",
            "Accuracy Score for model 3 :  89.65517241379311\n",
            "Accuracy Score for model 4 :  87.06896551724138\n",
            "Accuracy Score for model 5 :  87.06896551724138\n"
          ]
        }
      ]
    },
    {
      "cell_type": "code",
      "source": [
        "acc_sample4 = pd.Series([as1,as2,as3,as4,as5])\n",
        "print(acc_sample4)"
      ],
      "metadata": {
        "colab": {
          "base_uri": "https://localhost:8080/"
        },
        "id": "0CAPz1xL9kXQ",
        "outputId": "ae3f2fff-0a85-41e7-d8b9-12da9ddfef1f"
      },
      "execution_count": 962,
      "outputs": [
        {
          "output_type": "stream",
          "name": "stdout",
          "text": [
            "0    64.655172\n",
            "1    93.103448\n",
            "2    89.655172\n",
            "3    87.068966\n",
            "4    68.965517\n",
            "dtype: float64\n"
          ]
        }
      ]
    },
    {
      "cell_type": "markdown",
      "source": [
        "## Sample 5"
      ],
      "metadata": {
        "id": "zJ-FoB_H-Co0"
      }
    },
    {
      "cell_type": "code",
      "source": [
        "model1.fit(sample5_inputs,sample5_targets)\n",
        "model2.fit(sample5_inputs,sample5_targets)\n",
        "model3.fit(sample5_inputs,sample5_targets)\n",
        "model4.fit(sample5_inputs,sample5_targets)\n",
        "model5.fit(sample5_inputs,sample5_targets)"
      ],
      "metadata": {
        "colab": {
          "base_uri": "https://localhost:8080/"
        },
        "id": "jqzYYQg57hqP",
        "outputId": "c9b3544f-dc2f-4039-b747-f5bd156bff42"
      },
      "execution_count": 963,
      "outputs": [
        {
          "output_type": "stream",
          "name": "stderr",
          "text": [
            "/usr/local/lib/python3.8/dist-packages/sklearn/linear_model/_logistic.py:814: ConvergenceWarning: lbfgs failed to converge (status=1):\n",
            "STOP: TOTAL NO. of ITERATIONS REACHED LIMIT.\n",
            "\n",
            "Increase the number of iterations (max_iter) or scale the data as shown in:\n",
            "    https://scikit-learn.org/stable/modules/preprocessing.html\n",
            "Please also refer to the documentation for alternative solver options:\n",
            "    https://scikit-learn.org/stable/modules/linear_model.html#logistic-regression\n",
            "  n_iter_i = _check_optimize_result(\n"
          ]
        },
        {
          "output_type": "execute_result",
          "data": {
            "text/plain": [
              "KNeighborsClassifier()"
            ]
          },
          "metadata": {},
          "execution_count": 963
        }
      ]
    },
    {
      "cell_type": "code",
      "source": [
        "val_preds1 = model1.predict(val_inputs)\n",
        "val_preds2 = model2.predict(val_inputs)\n",
        "val_preds3 = model3.predict(val_inputs)\n",
        "val_preds4 = model4.predict(val_inputs)\n",
        "val_preds5 = model5.predict(val_inputs)"
      ],
      "metadata": {
        "id": "gaHy9t2U-EWZ"
      },
      "execution_count": 964,
      "outputs": []
    },
    {
      "cell_type": "code",
      "source": [
        "as1 = accuracy_score(val_preds1,val_targets) * 100\n",
        "as2 = accuracy_score(val_preds2,val_targets) * 100\n",
        "as3 = accuracy_score(val_preds3,val_targets) * 100\n",
        "as4 = accuracy_score(val_preds4,val_targets) * 100\n",
        "as5 = accuracy_score(val_preds5,val_targets) * 100"
      ],
      "metadata": {
        "id": "LiYO3goL-EUj"
      },
      "execution_count": 965,
      "outputs": []
    },
    {
      "cell_type": "code",
      "source": [
        "print(\"Accuracy Score for model 1 : \",as1)\n",
        "print(\"Accuracy Score for model 2 : \",as2)\n",
        "print(\"Accuracy Score for model 3 : \",as3)\n",
        "print(\"Accuracy Score for model 4 : \",as4)\n",
        "print(\"Accuracy Score for model 5 : \",as4)"
      ],
      "metadata": {
        "colab": {
          "base_uri": "https://localhost:8080/"
        },
        "id": "hGKog0Y8-ESf",
        "outputId": "168db719-5cbb-404f-9dfd-72a113436b3f"
      },
      "execution_count": 966,
      "outputs": [
        {
          "output_type": "stream",
          "name": "stdout",
          "text": [
            "Accuracy Score for model 1 :  80.60344827586206\n",
            "Accuracy Score for model 2 :  95.6896551724138\n",
            "Accuracy Score for model 3 :  95.25862068965517\n",
            "Accuracy Score for model 4 :  82.32758620689656\n",
            "Accuracy Score for model 5 :  82.32758620689656\n"
          ]
        }
      ]
    },
    {
      "cell_type": "code",
      "source": [
        "acc_sample5 = pd.Series([as1,as2,as3,as4,as5])\n",
        "print(acc_sample5)"
      ],
      "metadata": {
        "colab": {
          "base_uri": "https://localhost:8080/"
        },
        "id": "B2dNGvRX-EQc",
        "outputId": "1d17e1c9-2d14-4477-c969-117f4abe2654"
      },
      "execution_count": 967,
      "outputs": [
        {
          "output_type": "stream",
          "name": "stdout",
          "text": [
            "0    80.603448\n",
            "1    95.689655\n",
            "2    95.258621\n",
            "3    82.327586\n",
            "4    87.068966\n",
            "dtype: float64\n"
          ]
        }
      ]
    },
    {
      "cell_type": "markdown",
      "source": [
        "## Final Results"
      ],
      "metadata": {
        "id": "VnhGIwmQ-bFd"
      }
    },
    {
      "cell_type": "code",
      "source": [
        "final_results = pd.concat([acc_sample1,acc_sample2,acc_sample3,acc_sample4,acc_sample5],axis=1)"
      ],
      "metadata": {
        "id": "gLUXuZYM-EOS"
      },
      "execution_count": 968,
      "outputs": []
    },
    {
      "cell_type": "code",
      "source": [
        "final_results.columns = ['Sample 1','Sample 2','Sample 3','Sample 4','Sample 5']\n",
        "final_results.index = ['Model 1','Model 2','Model 3','Model 4','Model 5']"
      ],
      "metadata": {
        "id": "T0BPirmv-EJ3"
      },
      "execution_count": 969,
      "outputs": []
    },
    {
      "cell_type": "code",
      "source": [
        "final_results"
      ],
      "metadata": {
        "colab": {
          "base_uri": "https://localhost:8080/",
          "height": 206
        },
        "id": "u-Mw7K_a_iaB",
        "outputId": "5d2d6132-ab8e-406a-dab5-587967d87520"
      },
      "execution_count": 970,
      "outputs": [
        {
          "output_type": "execute_result",
          "data": {
            "text/plain": [
              "          Sample 1    Sample 2   Sample 3   Sample 4   Sample 5\n",
              "Model 1  79.741379   84.913793  93.534483  64.655172  80.603448\n",
              "Model 2  99.568966  100.000000  99.568966  93.103448  95.689655\n",
              "Model 3  99.137931  100.000000  99.568966  89.655172  95.258621\n",
              "Model 4  95.689655   99.137931  99.568966  87.068966  82.327586\n",
              "Model 5  92.672414   99.568966  99.568966  68.965517  87.068966"
            ],
            "text/html": [
              "\n",
              "  <div id=\"df-eb1563a1-9c9d-4a9b-be0f-d99490b1c88e\">\n",
              "    <div class=\"colab-df-container\">\n",
              "      <div>\n",
              "<style scoped>\n",
              "    .dataframe tbody tr th:only-of-type {\n",
              "        vertical-align: middle;\n",
              "    }\n",
              "\n",
              "    .dataframe tbody tr th {\n",
              "        vertical-align: top;\n",
              "    }\n",
              "\n",
              "    .dataframe thead th {\n",
              "        text-align: right;\n",
              "    }\n",
              "</style>\n",
              "<table border=\"1\" class=\"dataframe\">\n",
              "  <thead>\n",
              "    <tr style=\"text-align: right;\">\n",
              "      <th></th>\n",
              "      <th>Sample 1</th>\n",
              "      <th>Sample 2</th>\n",
              "      <th>Sample 3</th>\n",
              "      <th>Sample 4</th>\n",
              "      <th>Sample 5</th>\n",
              "    </tr>\n",
              "  </thead>\n",
              "  <tbody>\n",
              "    <tr>\n",
              "      <th>Model 1</th>\n",
              "      <td>79.741379</td>\n",
              "      <td>84.913793</td>\n",
              "      <td>93.534483</td>\n",
              "      <td>64.655172</td>\n",
              "      <td>80.603448</td>\n",
              "    </tr>\n",
              "    <tr>\n",
              "      <th>Model 2</th>\n",
              "      <td>99.568966</td>\n",
              "      <td>100.000000</td>\n",
              "      <td>99.568966</td>\n",
              "      <td>93.103448</td>\n",
              "      <td>95.689655</td>\n",
              "    </tr>\n",
              "    <tr>\n",
              "      <th>Model 3</th>\n",
              "      <td>99.137931</td>\n",
              "      <td>100.000000</td>\n",
              "      <td>99.568966</td>\n",
              "      <td>89.655172</td>\n",
              "      <td>95.258621</td>\n",
              "    </tr>\n",
              "    <tr>\n",
              "      <th>Model 4</th>\n",
              "      <td>95.689655</td>\n",
              "      <td>99.137931</td>\n",
              "      <td>99.568966</td>\n",
              "      <td>87.068966</td>\n",
              "      <td>82.327586</td>\n",
              "    </tr>\n",
              "    <tr>\n",
              "      <th>Model 5</th>\n",
              "      <td>92.672414</td>\n",
              "      <td>99.568966</td>\n",
              "      <td>99.568966</td>\n",
              "      <td>68.965517</td>\n",
              "      <td>87.068966</td>\n",
              "    </tr>\n",
              "  </tbody>\n",
              "</table>\n",
              "</div>\n",
              "      <button class=\"colab-df-convert\" onclick=\"convertToInteractive('df-eb1563a1-9c9d-4a9b-be0f-d99490b1c88e')\"\n",
              "              title=\"Convert this dataframe to an interactive table.\"\n",
              "              style=\"display:none;\">\n",
              "        \n",
              "  <svg xmlns=\"http://www.w3.org/2000/svg\" height=\"24px\"viewBox=\"0 0 24 24\"\n",
              "       width=\"24px\">\n",
              "    <path d=\"M0 0h24v24H0V0z\" fill=\"none\"/>\n",
              "    <path d=\"M18.56 5.44l.94 2.06.94-2.06 2.06-.94-2.06-.94-.94-2.06-.94 2.06-2.06.94zm-11 1L8.5 8.5l.94-2.06 2.06-.94-2.06-.94L8.5 2.5l-.94 2.06-2.06.94zm10 10l.94 2.06.94-2.06 2.06-.94-2.06-.94-.94-2.06-.94 2.06-2.06.94z\"/><path d=\"M17.41 7.96l-1.37-1.37c-.4-.4-.92-.59-1.43-.59-.52 0-1.04.2-1.43.59L10.3 9.45l-7.72 7.72c-.78.78-.78 2.05 0 2.83L4 21.41c.39.39.9.59 1.41.59.51 0 1.02-.2 1.41-.59l7.78-7.78 2.81-2.81c.8-.78.8-2.07 0-2.86zM5.41 20L4 18.59l7.72-7.72 1.47 1.35L5.41 20z\"/>\n",
              "  </svg>\n",
              "      </button>\n",
              "      \n",
              "  <style>\n",
              "    .colab-df-container {\n",
              "      display:flex;\n",
              "      flex-wrap:wrap;\n",
              "      gap: 12px;\n",
              "    }\n",
              "\n",
              "    .colab-df-convert {\n",
              "      background-color: #E8F0FE;\n",
              "      border: none;\n",
              "      border-radius: 50%;\n",
              "      cursor: pointer;\n",
              "      display: none;\n",
              "      fill: #1967D2;\n",
              "      height: 32px;\n",
              "      padding: 0 0 0 0;\n",
              "      width: 32px;\n",
              "    }\n",
              "\n",
              "    .colab-df-convert:hover {\n",
              "      background-color: #E2EBFA;\n",
              "      box-shadow: 0px 1px 2px rgba(60, 64, 67, 0.3), 0px 1px 3px 1px rgba(60, 64, 67, 0.15);\n",
              "      fill: #174EA6;\n",
              "    }\n",
              "\n",
              "    [theme=dark] .colab-df-convert {\n",
              "      background-color: #3B4455;\n",
              "      fill: #D2E3FC;\n",
              "    }\n",
              "\n",
              "    [theme=dark] .colab-df-convert:hover {\n",
              "      background-color: #434B5C;\n",
              "      box-shadow: 0px 1px 3px 1px rgba(0, 0, 0, 0.15);\n",
              "      filter: drop-shadow(0px 1px 2px rgba(0, 0, 0, 0.3));\n",
              "      fill: #FFFFFF;\n",
              "    }\n",
              "  </style>\n",
              "\n",
              "      <script>\n",
              "        const buttonEl =\n",
              "          document.querySelector('#df-eb1563a1-9c9d-4a9b-be0f-d99490b1c88e button.colab-df-convert');\n",
              "        buttonEl.style.display =\n",
              "          google.colab.kernel.accessAllowed ? 'block' : 'none';\n",
              "\n",
              "        async function convertToInteractive(key) {\n",
              "          const element = document.querySelector('#df-eb1563a1-9c9d-4a9b-be0f-d99490b1c88e');\n",
              "          const dataTable =\n",
              "            await google.colab.kernel.invokeFunction('convertToInteractive',\n",
              "                                                     [key], {});\n",
              "          if (!dataTable) return;\n",
              "\n",
              "          const docLinkHtml = 'Like what you see? Visit the ' +\n",
              "            '<a target=\"_blank\" href=https://colab.research.google.com/notebooks/data_table.ipynb>data table notebook</a>'\n",
              "            + ' to learn more about interactive tables.';\n",
              "          element.innerHTML = '';\n",
              "          dataTable['output_type'] = 'display_data';\n",
              "          await google.colab.output.renderOutput(dataTable, element);\n",
              "          const docLink = document.createElement('div');\n",
              "          docLink.innerHTML = docLinkHtml;\n",
              "          element.appendChild(docLink);\n",
              "        }\n",
              "      </script>\n",
              "    </div>\n",
              "  </div>\n",
              "  "
            ]
          },
          "metadata": {},
          "execution_count": 970
        }
      ]
    },
    {
      "cell_type": "markdown",
      "source": [
        "##### Sample 1 gives best result when Model 2(Extra Tree Classifier) was applied.\n",
        "##### Sample 2 gives best result when Model 2(Extra Tree Classifier) and Model 3(Random Forest Classifier) were applied.\n",
        "##### Sample 3 gives best result when Model 2(Extra Tree Classifier), Model 3(Random Forest Classifier), Model 4(XG Boost), Model 5(KNN) was applied. \t\n",
        "##### Sample 4 gives best result when Model 2(Extra Tree Classifier).\n",
        "##### Sample 5 gives best result when Model 3(Random Forest Classifier) was applied.\n"
      ],
      "metadata": {
        "id": "JcPR8w7XCzV8"
      }
    },
    {
      "cell_type": "markdown",
      "source": [
        "## Result\n",
        "#### Highest accuracy is coming for 3 cases:\n",
        "#### 1) When Model 2(Extra Tree Classifier) is applied on the Sample 1.\n",
        "#### 2) When Model 2(Extra Tree Classifier) is applied on the Sample 2.\n",
        "#### 3) When Model 3(Random Forest Classifier) is applied on the Sample 2."
      ],
      "metadata": {
        "id": "AJ1lgHcGBeLL"
      }
    }
  ]
}